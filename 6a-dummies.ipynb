{
 "cells": [
  {
   "cell_type": "code",
   "execution_count": 1,
   "metadata": {},
   "outputs": [],
   "source": [
    "import pandas as pd\n",
    "import numpy as np\n",
    "from sklearn.linear_model import LinearRegression\n",
    "from sklearn.compose import make_column_transformer\n",
    "from sklearn.preprocessing import OneHotEncoder\n",
    "from sklearn.preprocessing import PolynomialFeatures\n",
    "from sklearn.pipeline import make_pipeline\n",
    "import statsmodels.formula.api as smf"
   ]
  },
  {
   "attachments": {},
   "cell_type": "markdown",
   "metadata": {},
   "source": [
    "#### Example dataframe"
   ]
  },
  {
   "cell_type": "code",
   "execution_count": 2,
   "metadata": {},
   "outputs": [
    {
     "data": {
      "text/html": [
       "<div>\n",
       "<style scoped>\n",
       "    .dataframe tbody tr th:only-of-type {\n",
       "        vertical-align: middle;\n",
       "    }\n",
       "\n",
       "    .dataframe tbody tr th {\n",
       "        vertical-align: top;\n",
       "    }\n",
       "\n",
       "    .dataframe thead th {\n",
       "        text-align: right;\n",
       "    }\n",
       "</style>\n",
       "<table border=\"1\" class=\"dataframe\">\n",
       "  <thead>\n",
       "    <tr style=\"text-align: right;\">\n",
       "      <th></th>\n",
       "      <th>cat</th>\n",
       "      <th>x</th>\n",
       "      <th>y</th>\n",
       "    </tr>\n",
       "  </thead>\n",
       "  <tbody>\n",
       "    <tr>\n",
       "      <th>0</th>\n",
       "      <td>a</td>\n",
       "      <td>1.434484</td>\n",
       "      <td>-0.370325</td>\n",
       "    </tr>\n",
       "    <tr>\n",
       "      <th>1</th>\n",
       "      <td>b</td>\n",
       "      <td>1.079859</td>\n",
       "      <td>0.311202</td>\n",
       "    </tr>\n",
       "    <tr>\n",
       "      <th>2</th>\n",
       "      <td>a</td>\n",
       "      <td>0.592733</td>\n",
       "      <td>0.041804</td>\n",
       "    </tr>\n",
       "    <tr>\n",
       "      <th>3</th>\n",
       "      <td>c</td>\n",
       "      <td>-1.518686</td>\n",
       "      <td>-0.402556</td>\n",
       "    </tr>\n",
       "    <tr>\n",
       "      <th>4</th>\n",
       "      <td>b</td>\n",
       "      <td>1.533031</td>\n",
       "      <td>-0.070859</td>\n",
       "    </tr>\n",
       "    <tr>\n",
       "      <th>5</th>\n",
       "      <td>c</td>\n",
       "      <td>0.292722</td>\n",
       "      <td>0.797709</td>\n",
       "    </tr>\n",
       "    <tr>\n",
       "      <th>6</th>\n",
       "      <td>a</td>\n",
       "      <td>-0.071529</td>\n",
       "      <td>0.427510</td>\n",
       "    </tr>\n",
       "    <tr>\n",
       "      <th>7</th>\n",
       "      <td>c</td>\n",
       "      <td>2.244942</td>\n",
       "      <td>0.677399</td>\n",
       "    </tr>\n",
       "    <tr>\n",
       "      <th>8</th>\n",
       "      <td>b</td>\n",
       "      <td>0.338788</td>\n",
       "      <td>-0.228940</td>\n",
       "    </tr>\n",
       "    <tr>\n",
       "      <th>9</th>\n",
       "      <td>b</td>\n",
       "      <td>-0.395337</td>\n",
       "      <td>-0.319741</td>\n",
       "    </tr>\n",
       "  </tbody>\n",
       "</table>\n",
       "</div>"
      ],
      "text/plain": [
       "  cat         x         y\n",
       "0   a  1.434484 -0.370325\n",
       "1   b  1.079859  0.311202\n",
       "2   a  0.592733  0.041804\n",
       "3   c -1.518686 -0.402556\n",
       "4   b  1.533031 -0.070859\n",
       "5   c  0.292722  0.797709\n",
       "6   a -0.071529  0.427510\n",
       "7   c  2.244942  0.677399\n",
       "8   b  0.338788 -0.228940\n",
       "9   b -0.395337 -0.319741"
      ]
     },
     "execution_count": 2,
     "metadata": {},
     "output_type": "execute_result"
    }
   ],
   "source": [
    "df = pd.DataFrame(columns=[\"cat\", \"x\", \"y\"])\n",
    "df[\"x\"] = np.random.normal(size=10)\n",
    "df[\"y\"] = np.random.normal(size=10)\n",
    "df[\"cat\"] = [\"a\", \"b\", \"a\", \"c\", \"b\", \"c\", \"a\", \"c\", \"b\", \"b\"]\n",
    "df"
   ]
  },
  {
   "attachments": {},
   "cell_type": "markdown",
   "metadata": {},
   "source": [
    "#### Method 1: Pandas get dummies"
   ]
  },
  {
   "cell_type": "code",
   "execution_count": 3,
   "metadata": {},
   "outputs": [
    {
     "data": {
      "text/plain": [
       "array([-0.08465177, -0.19242083,  0.29621893,  0.18047108])"
      ]
     },
     "execution_count": 3,
     "metadata": {},
     "output_type": "execute_result"
    }
   ],
   "source": [
    "d2 = df.join(pd.get_dummies(df.cat))\n",
    "\n",
    "model = LinearRegression(fit_intercept=False)\n",
    "\n",
    "model.fit(\n",
    "    X=d2[[\"a\", \"b\", \"c\", \"x\"]],\n",
    "    y=d2[\"y\"]\n",
    ")\n",
    "model.coef_"
   ]
  },
  {
   "attachments": {},
   "cell_type": "markdown",
   "metadata": {},
   "source": [
    "#### Method 2: One hot encoder"
   ]
  },
  {
   "cell_type": "code",
   "execution_count": 4,
   "metadata": {},
   "outputs": [
    {
     "data": {
      "text/plain": [
       "array([-0.08465177, -0.19242083,  0.29621893,  0.18047108])"
      ]
     },
     "execution_count": 4,
     "metadata": {},
     "output_type": "execute_result"
    }
   ],
   "source": [
    "transform = make_column_transformer(\n",
    "    (OneHotEncoder(), [\"cat\"]),\n",
    "    remainder=\"passthrough\"\n",
    ")\n",
    "\n",
    "model = LinearRegression(fit_intercept=False)\n",
    "pipe = make_pipeline(transform, model)\n",
    "\n",
    "pipe.fit(\n",
    "    X=df[[\"cat\", \"x\"]], \n",
    "    y=df[\"y\"]\n",
    ")\n",
    "model.coef_"
   ]
  },
  {
   "attachments": {},
   "cell_type": "markdown",
   "metadata": {},
   "source": [
    "#### Get dummies with polynomial features"
   ]
  },
  {
   "cell_type": "code",
   "execution_count": 5,
   "metadata": {},
   "outputs": [
    {
     "data": {
      "text/plain": [
       "array([ 1.79011684e-01, -8.73797699e-02,  3.38351895e-01,  1.45990580e-01,\n",
       "        1.79011684e-01,  2.77555756e-17,  5.55111512e-17, -4.14023093e-01,\n",
       "       -8.73797699e-02,  0.00000000e+00,  2.83550756e-01,  3.38351895e-01,\n",
       "        2.76462918e-01, -1.86767494e-01])"
      ]
     },
     "execution_count": 5,
     "metadata": {},
     "output_type": "execute_result"
    }
   ],
   "source": [
    "model = LinearRegression(fit_intercept=False)\n",
    "poly = PolynomialFeatures(degree=2, include_bias=False)\n",
    "pipe = make_pipeline(poly, model)\n",
    "\n",
    "pipe.fit(\n",
    "    X=d2[[\"a\", \"b\", \"c\", \"x\"]],\n",
    "    y=d2[\"y\"]\n",
    ")\n",
    "model.coef_"
   ]
  },
  {
   "attachments": {},
   "cell_type": "markdown",
   "metadata": {},
   "source": [
    "#### One hot encoder with polynomial features"
   ]
  },
  {
   "cell_type": "code",
   "execution_count": 6,
   "metadata": {},
   "outputs": [
    {
     "data": {
      "text/plain": [
       "array([ 1.79011684e-01, -8.73797699e-02,  3.38351895e-01,  1.45990580e-01,\n",
       "        1.79011684e-01,  2.77555756e-17,  5.55111512e-17, -4.14023093e-01,\n",
       "       -8.73797699e-02,  0.00000000e+00,  2.83550756e-01,  3.38351895e-01,\n",
       "        2.76462918e-01, -1.86767494e-01])"
      ]
     },
     "execution_count": 6,
     "metadata": {},
     "output_type": "execute_result"
    }
   ],
   "source": [
    "transform = make_column_transformer(\n",
    "    (OneHotEncoder(), [\"cat\"]),\n",
    "    remainder=\"passthrough\"\n",
    ")\n",
    "model = LinearRegression(fit_intercept=False)\n",
    "poly = PolynomialFeatures(degree=2, include_bias=False)\n",
    "pipe = make_pipeline(transform, poly, model)\n",
    "pipe.fit(\n",
    "    X=df[[\"cat\", \"x\"]], \n",
    "    y=df[\"y\"]\n",
    ")\n",
    "model.coef_"
   ]
  }
 ],
 "metadata": {
  "kernelspec": {
   "display_name": "venv",
   "language": "python",
   "name": "python3"
  },
  "language_info": {
   "codemirror_mode": {
    "name": "ipython",
    "version": 3
   },
   "file_extension": ".py",
   "mimetype": "text/x-python",
   "name": "python",
   "nbconvert_exporter": "python",
   "pygments_lexer": "ipython3",
   "version": "3.10.7"
  },
  "orig_nbformat": 4,
  "vscode": {
   "interpreter": {
    "hash": "be7e468743716feb36892147511f2a8d480e8db8df6013d217e9e616f2a0761d"
   }
  }
 },
 "nbformat": 4,
 "nbformat_minor": 2
}
