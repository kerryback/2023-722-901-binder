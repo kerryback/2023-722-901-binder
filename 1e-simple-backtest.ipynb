{
 "cells": [
  {
   "cell_type": "code",
   "execution_count": 1,
   "metadata": {},
   "outputs": [
    {
     "name": "stdout",
     "output_type": "stream",
     "text": [
      "intercept = 0.01013452166825877\n"
     ]
    },
    {
     "data": {
      "text/plain": [
       "bm      0.000078\n",
       "roeq    0.000027\n",
       "dtype: float64"
      ]
     },
     "execution_count": 1,
     "metadata": {},
     "output_type": "execute_result"
    }
   ],
   "source": [
    "import pandas as pd\n",
    "import pymssql\n",
    "from sqlalchemy import create_engine\n",
    "from sklearn.linear_model import LinearRegression\n",
    "\n",
    "model = LinearRegression()\n",
    "\n",
    "server = \"mssql-82792-0.cloudclusters.net:16272\"\n",
    "username = \"user\"\n",
    "password = \"RiceOwls1912\" \n",
    "database = \"ghz\"\n",
    "string = \"mssql+pymssql://\" + username + \":\" + password + \"@\" + server + \"/\" + database\n",
    "\n",
    "conn = create_engine(string).connect()\n",
    "\n",
    "df = pd.read_sql(\n",
    "    \"\"\"\n",
    "    select date, ticker, bm, roeq, ret\n",
    "    from data\n",
    "    order by date, ticker\n",
    "    \"\"\",\n",
    "    conn\n",
    "  )\n",
    "df = df.dropna()\n",
    "df = df.set_index([\"date\", \"ticker\"])\n",
    "\n",
    "later = df.index.get_level_values(\"date\")>=\"2010-01\"\n",
    "\n",
    "train = df[~later]\n",
    "test = df[later]\n",
    "\n",
    "features = [\"bm\", \"roeq\"]\n",
    "\n",
    "Xtrain = train[features]\n",
    "ytrain = train[\"ret\"]\n",
    "\n",
    "model.fit(Xtrain, ytrain)\n",
    "\n",
    "print(\"intercept =\", model.intercept_)\n",
    "\n",
    "coefs = pd.Series(model.coef_, index=features)\n",
    "coefs"
   ]
  },
  {
   "cell_type": "code",
   "execution_count": 2,
   "metadata": {},
   "outputs": [
    {
     "name": "stdout",
     "output_type": "stream",
     "text": [
      "quintile         1         2         3         4         5\n",
      "date                                                      \n",
      "2010-01  -0.018635 -0.029396 -0.019440 -0.011638  0.055819\n",
      "2010-02   0.036299  0.040267  0.038363  0.039892  0.040899\n",
      "2010-03   0.077513  0.064601  0.084102  0.071667  0.104047\n",
      "2010-04   0.068089  0.047461  0.054447  0.085994  0.138964\n",
      "2010-05  -0.085651 -0.066710 -0.072764 -0.077961 -0.102800\n",
      "quintile\n",
      "1    0.011773\n",
      "2    0.012077\n",
      "3    0.012061\n",
      "4    0.011726\n",
      "5    0.015664\n",
      "dtype: float64\n"
     ]
    }
   ],
   "source": [
    "Xtest = test[features]\n",
    "\n",
    "ypredict = model.predict(Xtest)\n",
    "ypredict = pd.Series(ypredict, index=test.index)\n",
    "\n",
    "cut = lambda x: pd.qcut(x, 5, labels=range(1, 6))\n",
    "quintiles = ypredict.groupby(\"date\", group_keys=False).apply(cut)\n",
    "quintiles.name = \"quintile\"\n",
    "\n",
    "test = test.join(quintiles)\n",
    "\n",
    "rets = test.reset_index().groupby([\"date\", \"quintile\"]).ret.mean()\n",
    "rets = rets.unstack()\n",
    "\n",
    "print(rets.head())\n",
    "print(rets.mean())"
   ]
  }
 ],
 "metadata": {
  "kernelspec": {
   "display_name": "Python 3",
   "language": "python",
   "name": "python3"
  },
  "language_info": {
   "codemirror_mode": {
    "name": "ipython",
    "version": 3
   },
   "file_extension": ".py",
   "mimetype": "text/x-python",
   "name": "python",
   "nbconvert_exporter": "python",
   "pygments_lexer": "ipython3",
   "version": "3.10.3"
  },
  "orig_nbformat": 4,
  "vscode": {
   "interpreter": {
    "hash": "a98f34b6005ae2330f135078450db511ef8910ecc790235ef0560aa88aa6ce12"
   }
  }
 },
 "nbformat": 4,
 "nbformat_minor": 2
}
