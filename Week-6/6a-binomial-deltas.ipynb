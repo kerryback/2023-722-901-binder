{
 "cells": [
  {
   "attachments": {},
   "cell_type": "markdown",
   "metadata": {},
   "source": [
    "# Deltas with Binomial Equation"
   ]
  },
  {
   "attachments": {},
   "cell_type": "markdown",
   "metadata": {},
   "source": [
    "## One period binomial"
   ]
  },
  {
   "cell_type": "code",
   "execution_count": 1,
   "metadata": {},
   "outputs": [
    {
     "data": {
      "text/plain": [
       "3.57142857142858"
      ]
     },
     "execution_count": 1,
     "metadata": {},
     "output_type": "execute_result"
    }
   ],
   "source": [
    "S = 100     # initial stock price\n",
    "K = 105     # strike\n",
    "u = 0.10    # up return\n",
    "d = -0.10   # down return\n",
    "r = 0.05    # interest rate\n",
    "\n",
    "Su = S * (1+u)\n",
    "Sd = S * (1+d)\n",
    "Cu = max(0, Su-K)\n",
    "Cd = max(0, Sd-K)\n",
    "delta = (Cu-Cd) / (Su-Sd)\n",
    "lev = (delta*Sd - Cd) / (1+r)\n",
    "call = delta*S - lev\n",
    "call"
   ]
  },
  {
   "attachments": {},
   "cell_type": "markdown",
   "metadata": {},
   "source": [
    "## Two period binomial"
   ]
  },
  {
   "cell_type": "code",
   "execution_count": 2,
   "metadata": {},
   "outputs": [],
   "source": [
    "def one_period_call(S, Su, Sd, Cu, Cd, r):\n",
    "    delta = (Cu-Cd) / (Su-Sd)\n",
    "    lev = (delta*Sd - Cd) / (1+r)\n",
    "    return delta*S - lev\n",
    "\n",
    "S = 100\n",
    "K = 105\n",
    "u = 0.05  # up return each period\n",
    "r = 0.03  # interest rate each period"
   ]
  },
  {
   "cell_type": "code",
   "execution_count": 3,
   "metadata": {},
   "outputs": [
    {
     "data": {
      "text/plain": [
       "3.128616566955799"
      ]
     },
     "execution_count": 3,
     "metadata": {},
     "output_type": "execute_result"
    }
   ],
   "source": [
    "Su = S * (1+u)\n",
    "Sd = S / (1+u)\n",
    "Suu = Su * (1+u)\n",
    "Sud = S\n",
    "Sdd = Sd / (1+u)\n",
    "Cuu = max(0, Suu-K)\n",
    "Cud = max(0, Sud-K)\n",
    "Cdd = max(0, Sdd-K)\n",
    "Cu = one_period_call(Su, Suu, Sud, Cuu, Cud, r)\n",
    "Cd = one_period_call(Sd, Sud, Sdd, Cud, Cdd, r)\n",
    "C = one_period_call(S, Su, Sd, Cu, Cd, r)\n",
    "C"
   ]
  },
  {
   "cell_type": "code",
   "execution_count": null,
   "metadata": {},
   "outputs": [],
   "source": []
  }
 ],
 "metadata": {
  "kernelspec": {
   "display_name": "myenv",
   "language": "python",
   "name": "python3"
  },
  "language_info": {
   "codemirror_mode": {
    "name": "ipython",
    "version": 3
   },
   "file_extension": ".py",
   "mimetype": "text/x-python",
   "name": "python",
   "nbconvert_exporter": "python",
   "pygments_lexer": "ipython3",
   "version": "3.7.13"
  },
  "orig_nbformat": 4
 },
 "nbformat": 4,
 "nbformat_minor": 2
}
