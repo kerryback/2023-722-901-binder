{
 "cells": [
  {
   "cell_type": "code",
   "execution_count": 2,
   "metadata": {},
   "outputs": [],
   "source": [
    "import numpy as np\n",
    "from scipy.stats import norm\n",
    "\n",
    "def callBS(S, K, T, sigma, r, q=0):\n",
    "    d1 = np.log(S/K) + (r-q+0.5*sigma**2)*T\n",
    "    d1 /= sigma*np.sqrt(T)\n",
    "    d2 = d1 - sigma*np.sqrt(T)\n",
    "    N1 = norm.cdf(d1)\n",
    "    N2 = norm.cdf(d2)\n",
    "    return np.exp(-q*T)*S*N1 - np.exp(-r*T)*K*N2\n",
    "\n",
    "def putBS(S, K, T, sigma, r, q=0):\n",
    "    d1 = np.log(S/K) + (r-q+0.5*sigma**2)*T\n",
    "    d1 /= sigma*np.sqrt(T)\n",
    "    d2 = d1 - sigma*np.sqrt(T)\n",
    "    N1 = norm.cdf(-d1)\n",
    "    N2 = norm.cdf(-d2)\n",
    "    return np.exp(-r*T)*K*N2 - np.exp(-q*T)*S*N1"
   ]
  },
  {
   "cell_type": "code",
   "execution_count": 7,
   "metadata": {},
   "outputs": [
    {
     "data": {
      "text/plain": [
       "0.32025830955048284"
      ]
     },
     "execution_count": 7,
     "metadata": {},
     "output_type": "execute_result"
    }
   ],
   "source": [
    "from scipy.optimize import fsolve\n",
    "def callIV(C, S, K, T, r, q=0):\n",
    "  return fsolve(\n",
    "    lambda x: C - callBS(S, K, T, x, r, q),\n",
    "    x0=0.3\n",
    "  )\n",
    "\n",
    "C = 15\n",
    "S = 100\n",
    "K = 100\n",
    "T = 1\n",
    "r = 0.05\n",
    "iv = callIV(C, S, K, T, r)\n",
    "iv[0]"
   ]
  },
  {
   "cell_type": "code",
   "execution_count": null,
   "metadata": {},
   "outputs": [],
   "source": []
  }
 ],
 "metadata": {
  "kernelspec": {
   "display_name": "myenv",
   "language": "python",
   "name": "python3"
  },
  "language_info": {
   "codemirror_mode": {
    "name": "ipython",
    "version": 3
   },
   "file_extension": ".py",
   "mimetype": "text/x-python",
   "name": "python",
   "nbconvert_exporter": "python",
   "pygments_lexer": "ipython3",
   "version": "3.7.13"
  },
  "orig_nbformat": 4
 },
 "nbformat": 4,
 "nbformat_minor": 2
}
