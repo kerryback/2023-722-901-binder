{
 "cells": [
  {
   "attachments": {},
   "cell_type": "markdown",
   "metadata": {},
   "source": [
    "# BLACK-SCHOLES CALL FORMULA"
   ]
  },
  {
   "cell_type": "code",
   "execution_count": 2,
   "metadata": {},
   "outputs": [],
   "source": [
    "import numpy as np\n",
    "from scipy.stats import norm\n",
    "\n",
    "def callBS(S, K, T, sigma, r, q=0):\n",
    "    d1 = np.log(S/K) + (r-q+0.5*sigma**2)*T\n",
    "    d1 /= sigma*np.sqrt(T)\n",
    "    d2 = d1 - sigma*np.sqrt(T)\n",
    "    N1 = norm.cdf(d1)\n",
    "    N2 = norm.cdf(d2)\n",
    "    return np.exp(-q*T)*S*N1 - np.exp(-r*T)*K*N2"
   ]
  },
  {
   "attachments": {},
   "cell_type": "markdown",
   "metadata": {},
   "source": [
    "# BLACK-SCHOLES PUT FORMULA"
   ]
  },
  {
   "cell_type": "code",
   "execution_count": null,
   "metadata": {},
   "outputs": [],
   "source": [
    "def putBS(S, K, T, sigma, r, q=0):\n",
    "    d1 = np.log(S/K) + (r-q+0.5*sigma**2)*T\n",
    "    d1 /= sigma*np.sqrt(T)\n",
    "    d2 = d1 - sigma*np.sqrt(T)\n",
    "    N1 = norm.cdf(-d1)\n",
    "    N2 = norm.cdf(-d2)\n",
    "    return np.exp(-r*T)*K*N2 - np.exp(-q*T)*S*N1"
   ]
  }
 ],
 "metadata": {
  "kernelspec": {
   "display_name": "myenv",
   "language": "python",
   "name": "python3"
  },
  "language_info": {
   "codemirror_mode": {
    "name": "ipython",
    "version": 3
   },
   "file_extension": ".py",
   "mimetype": "text/x-python",
   "name": "python",
   "nbconvert_exporter": "python",
   "pygments_lexer": "ipython3",
   "version": "3.7.13"
  },
  "orig_nbformat": 4
 },
 "nbformat": 4,
 "nbformat_minor": 2
}
