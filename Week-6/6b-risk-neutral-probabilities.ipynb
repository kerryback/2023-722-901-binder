{
 "cells": [
  {
   "cell_type": "code",
   "execution_count": 1,
   "metadata": {},
   "outputs": [
    {
     "data": {
      "text/plain": [
       "10.623403551775402"
      ]
     },
     "execution_count": 1,
     "metadata": {},
     "output_type": "execute_result"
    }
   ],
   "source": [
    "import numpy as np\n",
    "S = 100             # stock price\n",
    "K = 95              # strike\n",
    "u = 0.05            # up return per period\n",
    "r = 0.03            # interest rate per period\n",
    "n = 2               # number of periods\n",
    "d = 1/(1+u) - 1     # down return per period\n",
    "p = (r-d) / (u-d)   # risk-neutral prob\n",
    "x = [S*(1+u)**(n-2*i) for i in range(n+1)]\n",
    "v = np.maximum(0, np.array(x)-K)\n",
    "while len(v)>1:\n",
    "    v = (p*v[:-1]+(1-p)*v[1:]) / (1+r)\n",
    "v[0]"
   ]
  },
  {
   "cell_type": "code",
   "execution_count": null,
   "metadata": {},
   "outputs": [],
   "source": []
  }
 ],
 "metadata": {
  "kernelspec": {
   "display_name": "myenv",
   "language": "python",
   "name": "python3"
  },
  "language_info": {
   "codemirror_mode": {
    "name": "ipython",
    "version": 3
   },
   "file_extension": ".py",
   "mimetype": "text/x-python",
   "name": "python",
   "nbconvert_exporter": "python",
   "pygments_lexer": "ipython3",
   "version": "3.7.13"
  },
  "orig_nbformat": 4
 },
 "nbformat": 4,
 "nbformat_minor": 2
}
