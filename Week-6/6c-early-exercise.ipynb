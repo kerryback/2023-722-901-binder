{
 "cells": [
  {
   "attachments": {},
   "cell_type": "markdown",
   "metadata": {},
   "source": [
    "# EXAMPLE"
   ]
  },
  {
   "cell_type": "code",
   "execution_count": 1,
   "metadata": {},
   "outputs": [],
   "source": [
    "import numpy as np\n",
    "S = 100             # stock price\n",
    "K = 105             # strike\n",
    "u = 0.05            # up return per period\n",
    "r = 0.03            # interest rate per period\n",
    "n = 4               # number of periods\n",
    "d = 1/(1+u) - 1     # down return per period\n",
    "p = (r-d) / (u-d)   # risk-neutral prob\n"
   ]
  },
  {
   "attachments": {},
   "cell_type": "markdown",
   "metadata": {},
   "source": [
    "EUROPEAN PUT"
   ]
  },
  {
   "cell_type": "code",
   "execution_count": 2,
   "metadata": {},
   "outputs": [
    {
     "data": {
      "text/plain": [
       "1.0903640597483955"
      ]
     },
     "execution_count": 2,
     "metadata": {},
     "output_type": "execute_result"
    }
   ],
   "source": [
    "x = [S*(1+u)**(n-2*i) for i in range(n+1)]  # stock price at the end\n",
    "v = np.maximum(0, K-np.array(x))            # put value at the end\n",
    "\n",
    "while len(v)>1:\n",
    "    v = (p*v[:-1]+(1-p)*v[1:]) / (1+r)\n",
    "v[0]"
   ]
  },
  {
   "attachments": {},
   "cell_type": "markdown",
   "metadata": {},
   "source": [
    "# AMERICAN PUT"
   ]
  },
  {
   "cell_type": "code",
   "execution_count": 4,
   "metadata": {},
   "outputs": [
    {
     "data": {
      "text/plain": [
       "5.0"
      ]
     },
     "execution_count": 4,
     "metadata": {},
     "output_type": "execute_result"
    }
   ],
   "source": [
    "x = [S*(1+u)**(n-2*i) for i in range(n+1)]  # stock price at the end\n",
    "v = np.maximum(0, K-np.array(x))            # put value at the end\n",
    "\n",
    "while len(v)>1:\n",
    "    v1 = (p*v[:-1]+(1-p)*v[1:]) / (1+r)\n",
    "    m = len(v1) - 1                          # date number\n",
    "    x = [S*(1+u)**(m-2*i) for i in range(m+1)]\n",
    "    v2 = np.maximum(0, K-np.array(x))\n",
    "    v = np.maximum(v1, v2)\n",
    "v[0]"
   ]
  },
  {
   "cell_type": "code",
   "execution_count": null,
   "metadata": {},
   "outputs": [],
   "source": []
  }
 ],
 "metadata": {
  "kernelspec": {
   "display_name": "myenv",
   "language": "python",
   "name": "python3"
  },
  "language_info": {
   "codemirror_mode": {
    "name": "ipython",
    "version": 3
   },
   "file_extension": ".py",
   "mimetype": "text/x-python",
   "name": "python",
   "nbconvert_exporter": "python",
   "pygments_lexer": "ipython3",
   "version": "3.10.8"
  },
  "orig_nbformat": 4
 },
 "nbformat": 4,
 "nbformat_minor": 2
}
