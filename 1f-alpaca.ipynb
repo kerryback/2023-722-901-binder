{
 "cells": [
  {
   "cell_type": "code",
   "execution_count": 1,
   "metadata": {},
   "outputs": [],
   "source": [
    "from alpaca.trading.client import TradingClient\n",
    "from alpaca.trading.requests import MarketOrderRequest\n",
    "from alpaca.trading.enums import OrderSide, TimeInForce\n",
    "\n",
    "KEY = \"PK0HUQOQFHHZ3E313RNH\"\n",
    "SECRET_KEY = \"cxe8RtebNkUfvhLVoE20WlXTk6Ysi4FCatowfcwF\"\n",
    "\n",
    "trading_client = TradingClient(KEY, SECRET_KEY, paper=True)"
   ]
  },
  {
   "cell_type": "code",
   "execution_count": 2,
   "metadata": {},
   "outputs": [
    {
     "data": {
      "text/plain": [
       "[{   'asset_class': <AssetClass.US_EQUITY: 'us_equity'>,\n",
       "     'asset_id': UUID('b0b6dd9d-8b9b-48a9-ba46-b9d54906e415'),\n",
       "     'avg_entry_price': '135.78',\n",
       "     'change_today': '0.0046573519627412',\n",
       "     'cost_basis': '1357.8',\n",
       "     'current_price': '135.9',\n",
       "     'exchange': <AssetExchange.NASDAQ: 'NASDAQ'>,\n",
       "     'lastday_price': '135.27',\n",
       "     'market_value': '1359',\n",
       "     'qty': '10',\n",
       "     'side': <PositionSide.LONG: 'long'>,\n",
       "     'symbol': 'AAPL',\n",
       "     'unrealized_intraday_pl': '1.2',\n",
       "     'unrealized_intraday_plpc': '0.000883782589483',\n",
       "     'unrealized_pl': '1.2',\n",
       "     'unrealized_plpc': '0.000883782589483'},\n",
       " {   'asset_class': <AssetClass.US_EQUITY: 'us_equity'>,\n",
       "     'asset_id': UUID('8ccae427-5dd0-45b3-b5fe-7ba5e422c766'),\n",
       "     'avg_entry_price': '130.702',\n",
       "     'change_today': '0.0288590076275851',\n",
       "     'cost_basis': '-653.51',\n",
       "     'current_price': '130.84',\n",
       "     'exchange': <AssetExchange.NASDAQ: 'NASDAQ'>,\n",
       "     'lastday_price': '127.17',\n",
       "     'market_value': '-654.2',\n",
       "     'qty': '-5',\n",
       "     'side': <PositionSide.SHORT: 'short'>,\n",
       "     'symbol': 'TSLA',\n",
       "     'unrealized_intraday_pl': '-0.69',\n",
       "     'unrealized_intraday_plpc': '-0.0010558369420514',\n",
       "     'unrealized_pl': '-0.69',\n",
       "     'unrealized_plpc': '-0.0010558369420514'}]"
      ]
     },
     "execution_count": 2,
     "metadata": {},
     "output_type": "execute_result"
    }
   ],
   "source": [
    "\"\"\"\n",
    "order = MarketOrderRequest(\n",
    "    symbol=\"AAPL\",\n",
    "    qty=10,\n",
    "    side=OrderSide.BUY,\n",
    "    time_in_force=TimeInForce.DAY\n",
    "    )\n",
    "_ = trading_client.submit_order(order)\n",
    "\n",
    "order = MarketOrderRequest(\n",
    "    symbol=\"TSLA\",\n",
    "    qty=5,\n",
    "    side=OrderSide.SELL,\n",
    "    time_in_force=TimeInForce.DAY\n",
    "    )\n",
    "_ = trading_client.submit_order(order)\n",
    "\"\"\"\n",
    "\n",
    "positions = trading_client.get_all_positions()\n",
    "positions"
   ]
  },
  {
   "cell_type": "code",
   "execution_count": 3,
   "metadata": {},
   "outputs": [
    {
     "data": {
      "text/plain": [
       "{   'account_blocked': False,\n",
       "    'account_number': 'PA3BI4KQX6FH',\n",
       "    'accrued_fees': '0',\n",
       "    'buying_power': '197987.97',\n",
       "    'cash': '99295.71',\n",
       "    'created_at': datetime.datetime(2023, 1, 20, 18, 4, 35, 591434, tzinfo=datetime.timezone.utc),\n",
       "    'crypto_status': <AccountStatus.ACTIVE: 'ACTIVE'>,\n",
       "    'currency': 'USD',\n",
       "    'daytrade_count': 0,\n",
       "    'daytrading_buying_power': '0',\n",
       "    'equity': '100000.56',\n",
       "    'id': UUID('66d46780-4b23-4d93-a276-ec081964cc5d'),\n",
       "    'initial_margin': '1006.575',\n",
       "    'last_equity': '100000',\n",
       "    'last_maintenance_margin': '0',\n",
       "    'long_market_value': '1359',\n",
       "    'maintenance_margin': '603.945',\n",
       "    'multiplier': '2',\n",
       "    'non_marginable_buying_power': '97988.05',\n",
       "    'pattern_day_trader': False,\n",
       "    'pending_transfer_in': '0',\n",
       "    'pending_transfer_out': None,\n",
       "    'portfolio_value': '100000.56',\n",
       "    'regt_buying_power': '197987.97',\n",
       "    'short_market_value': '-654.15',\n",
       "    'shorting_enabled': True,\n",
       "    'sma': '0',\n",
       "    'status': <AccountStatus.ACTIVE: 'ACTIVE'>,\n",
       "    'trade_suspended_by_user': False,\n",
       "    'trading_blocked': False,\n",
       "    'transfers_blocked': False}"
      ]
     },
     "execution_count": 3,
     "metadata": {},
     "output_type": "execute_result"
    }
   ],
   "source": [
    "account = trading_client.get_account()\n",
    "account"
   ]
  },
  {
   "cell_type": "code",
   "execution_count": 4,
   "metadata": {},
   "outputs": [
    {
     "data": {
      "text/plain": [
       "'100000.56'"
      ]
     },
     "execution_count": 4,
     "metadata": {},
     "output_type": "execute_result"
    }
   ],
   "source": [
    "account.equity"
   ]
  }
 ],
 "metadata": {
  "kernelspec": {
   "display_name": "Python 3",
   "language": "python",
   "name": "python3"
  },
  "language_info": {
   "codemirror_mode": {
    "name": "ipython",
    "version": 3
   },
   "file_extension": ".py",
   "mimetype": "text/x-python",
   "name": "python",
   "nbconvert_exporter": "python",
   "pygments_lexer": "ipython3",
   "version": "3.10.3"
  },
  "orig_nbformat": 4,
  "vscode": {
   "interpreter": {
    "hash": "a98f34b6005ae2330f135078450db511ef8910ecc790235ef0560aa88aa6ce12"
   }
  }
 },
 "nbformat": 4,
 "nbformat_minor": 2
}
