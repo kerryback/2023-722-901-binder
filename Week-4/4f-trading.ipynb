{
 "cells": [
  {
   "attachments": {},
   "cell_type": "markdown",
   "metadata": {},
   "source": [
    "# Repeat from 4e1"
   ]
  },
  {
   "cell_type": "code",
   "execution_count": 1,
   "metadata": {},
   "outputs": [],
   "source": [
    "from sqlalchemy import create_engine\n",
    "import pymssql\n",
    "import pandas as pd\n",
    "\n",
    "from sklearn.preprocessing import QuantileTransformer\n",
    "from joblib import load"
   ]
  },
  {
   "cell_type": "code",
   "execution_count": 2,
   "metadata": {},
   "outputs": [],
   "source": [
    "pipe = load(\"mypipe.joblib\")"
   ]
  },
  {
   "cell_type": "code",
   "execution_count": 3,
   "metadata": {},
   "outputs": [],
   "source": [
    "server = 'fs.rice.edu'\n",
    "database = 'stocks'\n",
    "username = 'stocks'\n",
    "password = '6LAZH1'\n",
    "string = \"mssql+pymssql://\" + username + \":\" + password + \"@\" + server + \"/\" + database \n",
    "\n",
    "conn = create_engine(string).connect()"
   ]
  },
  {
   "cell_type": "code",
   "execution_count": 4,
   "metadata": {},
   "outputs": [],
   "source": [
    "df = pd.read_sql(\n",
    "    \"\"\"\n",
    "    select ticker, bm, mom12m, roeq, siccd\n",
    "    from ghz\n",
    "    order by ticker\n",
    "    \"\"\",\n",
    "    conn\n",
    ")\n",
    "df = df.dropna()\n",
    "df = df.set_index(\"ticker\")\n",
    "features = [\"bm\", \"mom12m\", \"roeq\"]"
   ]
  },
  {
   "cell_type": "code",
   "execution_count": 5,
   "metadata": {},
   "outputs": [],
   "source": [
    "qt = QuantileTransformer(output_distribution=\"normal\")\n",
    "df[features] = qt.fit_transform(df[features])"
   ]
  },
  {
   "cell_type": "code",
   "execution_count": 6,
   "metadata": {},
   "outputs": [],
   "source": [
    "inds = pd.read_csv(\"siccodes12.csv\", index_col=\"industry\")\n",
    "ind_names = inds.index.unique().to_list()\n",
    "\n",
    "def industry(sic):\n",
    "  try:\n",
    "    return inds[(inds.start<=sic)&(sic<=inds.end)].index[0]\n",
    "  except:\n",
    "    return \"Other\"\n",
    "    \n",
    "df[\"industry\"] = df.siccd.map(industry)\n",
    "features.append(\"industry\")"
   ]
  },
  {
   "cell_type": "code",
   "execution_count": 7,
   "metadata": {},
   "outputs": [],
   "source": [
    "df[\"predict\"] = pipe.predict(df[features])"
   ]
  },
  {
   "attachments": {},
   "cell_type": "markdown",
   "metadata": {},
   "source": [
    "# Additional imports"
   ]
  },
  {
   "cell_type": "code",
   "execution_count": 9,
   "metadata": {},
   "outputs": [],
   "source": [
    "from datetime import datetime\n",
    "from pathlib import Path\n",
    "import numpy as np\n",
    "import time\n",
    "\n",
    "from alpaca.trading.client import TradingClient\n",
    "from alpaca.data.historical import StockHistoricalDataClient\n",
    "from alpaca.data.requests import StockBarsRequest\n",
    "from alpaca.data.timeframe import TimeFrame\n",
    "from alpaca.trading.requests import MarketOrderRequest\n",
    "from alpaca.trading.enums import OrderSide, TimeInForce\n",
    "\n",
    "KEY = \"PK11EGE7U1KLVJDCOUKH\"\n",
    "SECRET_KEY = \"oGTDIwcIgRajhyM0yq1knAjzjLtfQQ6xUTA4uBfp\" \n",
    "\n",
    "data_client = StockHistoricalDataClient(KEY, SECRET_KEY)\n",
    "trading_client = TradingClient(KEY, SECRET_KEY, paper=True)"
   ]
  },
  {
   "attachments": {},
   "cell_type": "markdown",
   "metadata": {},
   "source": [
    "# Tradable and shortable"
   ]
  },
  {
   "cell_type": "code",
   "execution_count": 10,
   "metadata": {},
   "outputs": [],
   "source": [
    "assets = trading_client.get_all_assets()\n",
    "\n",
    "tradable = {x.symbol:x.tradable for x in assets}\n",
    "df[\"tradable\"] = [tradable[tick] if tick in tradable else False for tick in df.index]\n",
    "\n",
    "shortable = {x.symbol:x.shortable for x in assets}\n",
    "df[\"shortable\"] = [shortable[tick] if tick in shortable else False for tick in df.index]"
   ]
  },
  {
   "attachments": {},
   "cell_type": "markdown",
   "metadata": {},
   "source": [
    "# Equity and current positions"
   ]
  },
  {
   "cell_type": "code",
   "execution_count": 11,
   "metadata": {},
   "outputs": [],
   "source": [
    "account = trading_client.get_account()\n",
    "equity = float(account.equity)\n",
    "\n",
    "current = trading_client.get_all_positions()\n",
    "current = {x.symbol: int(x.qty) for x in current}\n",
    "df[\"current\"] = [current[tick] if tick in current else 0 for tick in df.index]\n"
   ]
  },
  {
   "attachments": {},
   "cell_type": "markdown",
   "metadata": {},
   "source": [
    "# Ranking tradable and shortable stocks"
   ]
  },
  {
   "cell_type": "code",
   "execution_count": 12,
   "metadata": {},
   "outputs": [],
   "source": [
    "df[\"predict_long\"] = np.where(df.tradable, df.predict, np.nan)\n",
    "df[\"rank_from_top\"] = df.predict_long.rank(\n",
    "  ascending=False, \n",
    "  method=\"first\"\n",
    ")\n",
    "\n",
    "df[\"predict_short\"] = np.where(df.shortable, df.predict, np.nan)\n",
    "df[\"rank_from_bottom\"] = df.predict_short.rank(method=\"first\")"
   ]
  },
  {
   "attachments": {},
   "cell_type": "markdown",
   "metadata": {},
   "source": [
    "# Longs and shorts"
   ]
  },
  {
   "cell_type": "code",
   "execution_count": 13,
   "metadata": {},
   "outputs": [
    {
     "name": "stdout",
     "output_type": "stream",
     "text": [
      "number long is 100\n",
      "number short is 100\n"
     ]
    }
   ],
   "source": [
    "numlong = numshort = 100\n",
    "\n",
    "df[\"long\"] = df.rank_from_top <= numlong\n",
    "df[\"short\"] = df.rank_from_bottom <= numshort\n",
    "\n",
    "print(f\"number long is {df[df.long].shape[0]}\")\n",
    "print(f\"number short is {df[df.short].shape[0]}\")\n",
    "\n",
    "df_all = df.copy()\n",
    "df = df[df.long | df.short | (df.current !=0)].copy()"
   ]
  },
  {
   "attachments": {},
   "cell_type": "markdown",
   "metadata": {},
   "source": [
    "# Today's prices"
   ]
  },
  {
   "cell_type": "code",
   "execution_count": 16,
   "metadata": {},
   "outputs": [
    {
     "data": {
      "text/plain": [
       "{}"
      ]
     },
     "execution_count": 16,
     "metadata": {},
     "output_type": "execute_result"
    }
   ],
   "source": [
    "bars"
   ]
  },
  {
   "cell_type": "code",
   "execution_count": 14,
   "metadata": {},
   "outputs": [
    {
     "ename": "KeyError",
     "evalue": "\"None of ['symbol', 'timestamp'] are in the columns\"",
     "output_type": "error",
     "traceback": [
      "\u001b[1;31m---------------------------------------------------------------------------\u001b[0m",
      "\u001b[1;31mKeyError\u001b[0m                                  Traceback (most recent call last)",
      "Cell \u001b[1;32mIn[14], line 12\u001b[0m\n\u001b[0;32m      4\u001b[0m request_params \u001b[39m=\u001b[39m StockBarsRequest(\n\u001b[0;32m      5\u001b[0m                     symbol_or_symbols\u001b[39m=\u001b[39mdf\u001b[39m.\u001b[39mindex\u001b[39m.\u001b[39mto_list(),\n\u001b[0;32m      6\u001b[0m                     timeframe\u001b[39m=\u001b[39mTimeFrame\u001b[39m.\u001b[39mDay,\n\u001b[0;32m      7\u001b[0m                     start\u001b[39m=\u001b[39mdatetime(y, m, d)\n\u001b[0;32m      8\u001b[0m                     )\n\u001b[0;32m     10\u001b[0m bars \u001b[39m=\u001b[39m data_client\u001b[39m.\u001b[39mget_stock_bars(request_params)\n\u001b[1;32m---> 12\u001b[0m df[\u001b[39m\"\u001b[39m\u001b[39mprice\u001b[39m\u001b[39m\"\u001b[39m] \u001b[39m=\u001b[39m bars\u001b[39m.\u001b[39;49mdf[\u001b[39m\"\u001b[39m\u001b[39mclose\u001b[39m\u001b[39m\"\u001b[39m]\u001b[39m.\u001b[39mreset_index(level\u001b[39m=\u001b[39m\u001b[39m1\u001b[39m, drop\u001b[39m=\u001b[39m\u001b[39mTrue\u001b[39;00m)\n\u001b[0;32m     13\u001b[0m df \u001b[39m=\u001b[39m df[\u001b[39m~\u001b[39mdf\u001b[39m.\u001b[39mprice\u001b[39m.\u001b[39misna() \u001b[39m&\u001b[39m (df\u001b[39m.\u001b[39mprice\u001b[39m!=\u001b[39m\u001b[39m0\u001b[39m)]\n",
      "File \u001b[1;32mc:\\Users\\kerry\\repos\\2023-722-901-binder\\venv\\lib\\site-packages\\alpaca\\data\\models\\base.py:26\u001b[0m, in \u001b[0;36mTimeSeriesMixin.df\u001b[1;34m(self)\u001b[0m\n\u001b[0;32m     21\u001b[0m data_list \u001b[39m=\u001b[39m \u001b[39mlist\u001b[39m(itertools\u001b[39m.\u001b[39mchain\u001b[39m.\u001b[39mfrom_iterable(\u001b[39mself\u001b[39m\u001b[39m.\u001b[39mdict()\u001b[39m.\u001b[39mvalues()))\n\u001b[0;32m     23\u001b[0m \u001b[39m# set multi-level index\u001b[39;00m\n\u001b[0;32m     24\u001b[0m \u001b[39m# level=0 - symbol\u001b[39;00m\n\u001b[0;32m     25\u001b[0m \u001b[39m# level=1 - timestamp\u001b[39;00m\n\u001b[1;32m---> 26\u001b[0m df \u001b[39m=\u001b[39m pd\u001b[39m.\u001b[39;49mDataFrame(data_list)\u001b[39m.\u001b[39;49mset_index([\u001b[39m\"\u001b[39;49m\u001b[39msymbol\u001b[39;49m\u001b[39m\"\u001b[39;49m, \u001b[39m\"\u001b[39;49m\u001b[39mtimestamp\u001b[39;49m\u001b[39m\"\u001b[39;49m])\n\u001b[0;32m     28\u001b[0m \u001b[39m# drop null columns\u001b[39;00m\n\u001b[0;32m     29\u001b[0m df\u001b[39m.\u001b[39mdropna(axis\u001b[39m=\u001b[39m\u001b[39m1\u001b[39m, how\u001b[39m=\u001b[39m\u001b[39m\"\u001b[39m\u001b[39mall\u001b[39m\u001b[39m\"\u001b[39m, inplace\u001b[39m=\u001b[39m\u001b[39mTrue\u001b[39;00m)\n",
      "File \u001b[1;32mc:\\Users\\kerry\\repos\\2023-722-901-binder\\venv\\lib\\site-packages\\pandas\\util\\_decorators.py:331\u001b[0m, in \u001b[0;36mdeprecate_nonkeyword_arguments.<locals>.decorate.<locals>.wrapper\u001b[1;34m(*args, **kwargs)\u001b[0m\n\u001b[0;32m    325\u001b[0m \u001b[39mif\u001b[39;00m \u001b[39mlen\u001b[39m(args) \u001b[39m>\u001b[39m num_allow_args:\n\u001b[0;32m    326\u001b[0m     warnings\u001b[39m.\u001b[39mwarn(\n\u001b[0;32m    327\u001b[0m         msg\u001b[39m.\u001b[39mformat(arguments\u001b[39m=\u001b[39m_format_argument_list(allow_args)),\n\u001b[0;32m    328\u001b[0m         \u001b[39mFutureWarning\u001b[39;00m,\n\u001b[0;32m    329\u001b[0m         stacklevel\u001b[39m=\u001b[39mfind_stack_level(),\n\u001b[0;32m    330\u001b[0m     )\n\u001b[1;32m--> 331\u001b[0m \u001b[39mreturn\u001b[39;00m func(\u001b[39m*\u001b[39margs, \u001b[39m*\u001b[39m\u001b[39m*\u001b[39mkwargs)\n",
      "File \u001b[1;32mc:\\Users\\kerry\\repos\\2023-722-901-binder\\venv\\lib\\site-packages\\pandas\\core\\frame.py:6012\u001b[0m, in \u001b[0;36mDataFrame.set_index\u001b[1;34m(self, keys, drop, append, inplace, verify_integrity)\u001b[0m\n\u001b[0;32m   6009\u001b[0m                 missing\u001b[39m.\u001b[39mappend(col)\n\u001b[0;32m   6011\u001b[0m \u001b[39mif\u001b[39;00m missing:\n\u001b[1;32m-> 6012\u001b[0m     \u001b[39mraise\u001b[39;00m \u001b[39mKeyError\u001b[39;00m(\u001b[39mf\u001b[39m\u001b[39m\"\u001b[39m\u001b[39mNone of \u001b[39m\u001b[39m{\u001b[39;00mmissing\u001b[39m}\u001b[39;00m\u001b[39m are in the columns\u001b[39m\u001b[39m\"\u001b[39m)\n\u001b[0;32m   6014\u001b[0m \u001b[39mif\u001b[39;00m inplace:\n\u001b[0;32m   6015\u001b[0m     frame \u001b[39m=\u001b[39m \u001b[39mself\u001b[39m\n",
      "\u001b[1;31mKeyError\u001b[0m: \"None of ['symbol', 'timestamp'] are in the columns\""
     ]
    }
   ],
   "source": [
    "today = datetime.today().date()\n",
    "y, m, d = today.year, today.month, today.day\n",
    "\n",
    "request_params = StockBarsRequest(\n",
    "                    symbol_or_symbols=df.index.to_list(),\n",
    "                    timeframe=TimeFrame.Day,\n",
    "                    start=datetime(y, m, d)\n",
    "                    )\n",
    "\n",
    "bars = data_client.get_stock_bars(request_params)\n",
    "\n",
    "df[\"price\"] = bars.df[\"close\"].reset_index(level=1, drop=True)\n",
    "df = df[~df.price.isna() & (df.price!=0)]"
   ]
  },
  {
   "attachments": {},
   "cell_type": "markdown",
   "metadata": {},
   "source": [
    "# Targets and trades"
   ]
  },
  {
   "cell_type": "code",
   "execution_count": null,
   "metadata": {},
   "outputs": [
    {
     "name": "stdout",
     "output_type": "stream",
     "text": [
      "number of tickers with two trades is 0\n"
     ]
    }
   ],
   "source": [
    "df[\"target_dollars\"] = (\n",
    "  (1.3*equity/numlong)*df.long - \n",
    "      (0.3*equity/numshort)*df.short\n",
    ")\n",
    "df[\"current_dollars\"] = df.current*df.price\n",
    "df[\"trade_dollars\"] = df.target_dollars - df.current_dollars\n",
    "df[\"trade\"] = (df.trade_dollars / df.price).astype(int)\n",
    "\n",
    "# for going from long to short or vice versa\n",
    "def two_trades(row): \n",
    "    if ((np.sign(row.current) != np.sign(row.trade)) and (row.current!=0) and  (abs(row.trade) > abs(row.current))):\n",
    "        return True \n",
    "    return False \n",
    "df[\"two_trades\"] = df.apply(two_trades, axis=1)\n",
    "\n",
    "print(f\"number of tickers with two trades is {df[df.two_trades].shape[0]}\")"
   ]
  },
  {
   "attachments": {},
   "cell_type": "markdown",
   "metadata": {},
   "source": [
    "# Submit trades"
   ]
  },
  {
   "cell_type": "code",
   "execution_count": 15,
   "metadata": {},
   "outputs": [],
   "source": [
    "for tick in df[df.trade!=0].index:\n",
    "  market_order_data = MarketOrderRequest(\n",
    "    symbol=tick,\n",
    "    qty=abs(df.current[tick]) if df.two_trades[tick] else abs(df.trade[tick]),\n",
    "    side=OrderSide.BUY if df.trade[tick]>0 else OrderSide.SELL,\n",
    "    time_in_force=TimeInForce.GTC\n",
    "  )\n",
    "  market_order = trading_client.submit_order(\n",
    "    order_data=market_order_data\n",
    "  )\n",
    "\n",
    "# execute second trades if any\n",
    "if df[df.two_trades].shape[0] > 0:\n",
    "  time.sleep(5)\n",
    "  for tick in df[df.two_trades].index:        \n",
    "    market_order_data = MarketOrderRequest(\n",
    "      symbol=tick,\n",
    "      qty=abs(df.trade[tick]) - abs(df.current[tick]),\n",
    "      side=OrderSide.BUY if df.trade[tick]>0 else OrderSide.SELL,\n",
    "      time_in_force=TimeInForce.GTC\n",
    "    )\n",
    "    market_order = trading_client.submit_order(\n",
    "      order_data=market_order_data\n",
    "    )\n"
   ]
  },
  {
   "attachments": {},
   "cell_type": "markdown",
   "metadata": {},
   "source": [
    "# Save data"
   ]
  },
  {
   "cell_type": "code",
   "execution_count": 16,
   "metadata": {},
   "outputs": [
    {
     "name": "stderr",
     "output_type": "stream",
     "text": [
      "C:\\Users\\keb7\\AppData\\Local\\Temp\\ipykernel_57056\\3783317904.py:28: FutureWarning: In a future version, object-dtype columns with all-bool values will not be included in reductions with bool_only=True. Explicitly cast to bool dtype instead.\n",
      "  d = pd.concat((d, account))\n"
     ]
    }
   ],
   "source": [
    "df = df_all.join(\n",
    "    df[[\"trade_dollars\", \"current_dollars\", \"trade\", \"two_trades\"]],\n",
    "    how=\"left\" \n",
    ")\n",
    "\n",
    "today = datetime.today().strftime(\"%Y-%m-%d\")\n",
    "df[\"date\"] = today\n",
    "df = df[[\"date\", \"trade\"]].reset_index()\n",
    "\n",
    "df[\"date\"] = today\n",
    "\n",
    "if Path('./trades.csv').is_file():\n",
    "    d = pd.read_csv(\"trades.csv\")\n",
    "    d = d[d.date != today]\n",
    "    d = pd.concat((d, df))\n",
    "    df.to_csv(\"trades.csv\")\n",
    "else:\n",
    "    df.to_csv(\"trades.csv\")\n",
    "\n",
    "account = trading_client.get_account()\n",
    "account = dict(account)\n",
    "account = pd.DataFrame(pd.Series(account)).T\n",
    "account[\"date\"] = today\n",
    "\n",
    "if Path('./account.csv').is_file():\n",
    "    d = pd.read_csv(\"account.csv\")\n",
    "    d = d[d.date != today]\n",
    "    d = pd.concat((d, account))\n",
    "    d.to_csv(\"account.csv\")\n",
    "else:\n",
    "    account.to_csv(\"account.csv\")\n",
    "\n",
    "positions = trading_client.get_all_positions()\n",
    "positions = {x.symbol: x.qty for x in positions}\n",
    "positions = pd.DataFrame(pd.Series(positions))\n",
    "positions[\"date\"] = today\n",
    "\n",
    "if Path('./positions.csv').is_file():\n",
    "    d = pd.read_csv(\"positions.csv\")\n",
    "    d = d[d.date != today]\n",
    "    d = pd.concat((d, positions))\n",
    "    d.to_csv(\"positions.csv\")\n",
    "else:\n",
    "    positions.to_csv(\"positions.csv\")\n"
   ]
  }
 ],
 "metadata": {
  "kernelspec": {
   "display_name": "myenv",
   "language": "python",
   "name": "python3"
  },
  "language_info": {
   "codemirror_mode": {
    "name": "ipython",
    "version": 3
   },
   "file_extension": ".py",
   "mimetype": "text/x-python",
   "name": "python",
   "nbconvert_exporter": "python",
   "pygments_lexer": "ipython3",
   "version": "3.10.8"
  },
  "orig_nbformat": 4,
  "vscode": {
   "interpreter": {
    "hash": "09ac0f642c4809c63ace70dc888cbd5b35159287af3895fb76989324c78b2f31"
   }
  }
 },
 "nbformat": 4,
 "nbformat_minor": 2
}
