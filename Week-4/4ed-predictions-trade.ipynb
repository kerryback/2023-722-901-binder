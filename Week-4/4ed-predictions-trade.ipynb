{
 "cells": [
  {
   "cell_type": "code",
   "execution_count": 1,
   "metadata": {},
   "outputs": [],
   "source": [
    "from sqlalchemy import create_engine\n",
    "import pymssql\n",
    "import pandas as pd\n",
    "import numpy as np\n",
    "\n",
    "from sklearn.linear_model import LinearRegression\n",
    "from sklearn.preprocessing import QuantileTransformer\n",
    "from sklearn.preprocessing import PolynomialFeatures\n",
    "from sklearn.compose import make_column_transformer\n",
    "from sklearn.preprocessing import OneHotEncoder\n",
    "from sklearn.pipeline import make_pipeline\n",
    "\n",
    "transform = make_column_transformer(\n",
    "    (OneHotEncoder(), [\"industry\"]),\n",
    "    remainder=\"passthrough\"\n",
    ")\n",
    "\n",
    "model = LinearRegression(fit_intercept=False)\n",
    "qt = QuantileTransformer(output_distribution=\"normal\")\n",
    "poly = PolynomialFeatures(degree=2, include_bias=False)"
   ]
  },
  {
   "attachments": {},
   "cell_type": "markdown",
   "metadata": {},
   "source": [
    "# Get Data"
   ]
  },
  {
   "cell_type": "code",
   "execution_count": null,
   "metadata": {},
   "outputs": [],
   "source": [
    "server = 'fs.rice.edu'\n",
    "database = 'stocks'\n",
    "username = 'stocks'\n",
    "password = '6LAZH1'\n",
    "string = \"mssql+pymssql://\" + username + \":\" + password + \"@\" + server + \"/\" + database \n",
    "conn = create_engine(string).connect()\n",
    "\n",
    "df = pd.read_sql(\n",
    "\"\"\"\n",
    "select ticker, date, mve, acc, agr, beta, bm, ep, gma, idiovol, lev, mom12m, mom1m, \n",
    "    operprof, roeq, roic, roaq, retvol, saleinv, currat\n",
    "from today\n",
    "where price > 5\n",
    "\"\"\", \n",
    "conn\n",
    ")"
   ]
  },
  {
   "cell_type": "code",
   "execution_count": null,
   "metadata": {},
   "outputs": [],
   "source": [
    "df = df.dropna()\n",
    "conn.close()\n",
    "df = df.set_index(\"ticker\")\n",
    "df = df.sort_values(by=\"mve\")\n",
    "df = df.iloc[:-500]"
   ]
  },
  {
   "attachments": {},
   "cell_type": "markdown",
   "metadata": {},
   "source": [
    "## If you can not access the today table I uploaded a previously saved today table for you to test your code"
   ]
  },
  {
   "cell_type": "code",
   "execution_count": 108,
   "metadata": {},
   "outputs": [],
   "source": [
    "df = pd.read_csv('./today_table.csv')"
   ]
  },
  {
   "cell_type": "code",
   "execution_count": 109,
   "metadata": {},
   "outputs": [],
   "source": [
    "df = df.dropna()\n",
    "df = df.set_index(\"ticker\")\n",
    "df = df.sort_values(by=\"mve\")\n",
    "df = df.iloc[:-500]"
   ]
  },
  {
   "cell_type": "code",
   "execution_count": 110,
   "metadata": {},
   "outputs": [],
   "source": [
    "features = [\"roeq\", \"bm\", \"mom12m\"]"
   ]
  },
  {
   "attachments": {},
   "cell_type": "markdown",
   "metadata": {},
   "source": [
    "# Do same transformation as your training data"
   ]
  },
  {
   "cell_type": "code",
   "execution_count": 111,
   "metadata": {},
   "outputs": [],
   "source": [
    "def qt_df(d):\n",
    "    x = qt.fit_transform(d)\n",
    "    return pd.DataFrame(x, columns=d.columns, index=d.index)"
   ]
  },
  {
   "cell_type": "code",
   "execution_count": 112,
   "metadata": {},
   "outputs": [],
   "source": [
    "df[features] = qt.fit_transform(df[features])"
   ]
  },
  {
   "cell_type": "code",
   "execution_count": 113,
   "metadata": {},
   "outputs": [],
   "source": [
    "inds = pd.read_csv(\"siccodes12.csv\", index_col=\"industry\")\n",
    "\n",
    "def industry(sic):\n",
    "  try:\n",
    "    return inds[(inds.start<=sic)&(sic<=inds.end)].index[0]\n",
    "  except:\n",
    "    return \"Other\"\n",
    "\n",
    "df[\"industry\"] = df.siccd.map(industry)\n",
    "features.append(\"industry\")"
   ]
  },
  {
   "attachments": {},
   "cell_type": "markdown",
   "metadata": {},
   "source": [
    "# Load your trained pipeline"
   ]
  },
  {
   "cell_type": "code",
   "execution_count": 114,
   "metadata": {},
   "outputs": [],
   "source": [
    "import joblib\n",
    "pipe = joblib.load('./my_pipe.joblib')"
   ]
  },
  {
   "attachments": {},
   "cell_type": "markdown",
   "metadata": {},
   "source": [
    "# Make predictions"
   ]
  },
  {
   "cell_type": "code",
   "execution_count": 115,
   "metadata": {},
   "outputs": [],
   "source": [
    "df[\"predict\"] = pipe.predict(df[features])"
   ]
  },
  {
   "cell_type": "markdown",
   "metadata": {},
   "source": [
    "# Connect to your Alpaca account"
   ]
  },
  {
   "cell_type": "code",
   "execution_count": 116,
   "metadata": {},
   "outputs": [],
   "source": [
    "from alpaca.trading.client import TradingClient\n",
    "\n",
    "KEY = 'PKDG9RGA3BLL985UTBY8' # Insert your key here\n",
    "SECRET_KEY = 'Va7lW3jh5JWVcSfXaznDOeEU8uwvFHpmBw3lfCPE' # Insert your secret key here\n",
    "\n",
    "trading_client = TradingClient(KEY, SECRET_KEY, paper=True)\n",
    "assets = trading_client.get_all_assets()"
   ]
  },
  {
   "attachments": {},
   "cell_type": "markdown",
   "metadata": {},
   "source": [
    "# Get tradable and shortable stocks"
   ]
  },
  {
   "cell_type": "code",
   "execution_count": 117,
   "metadata": {},
   "outputs": [],
   "source": [
    "tradable = {x.symbol: dict(x)['tradable'] if 'tradable' in dict(x).keys() else None for x in assets}\n",
    "tradable = pd.DataFrame(data=tradable.values(), index=tradable.keys(), columns=['tradable'])\n",
    "\n",
    "shortable = {x.symbol: dict(x)['shortable'] if 'shortable' in dict(x).keys() else None for x in assets}\n",
    "shortable = pd.DataFrame(data=shortable.values(), index=shortable.keys(), columns=['shortable'])\n",
    "\n"
   ]
  },
  {
   "cell_type": "code",
   "execution_count": 118,
   "metadata": {},
   "outputs": [],
   "source": [
    "df = df.join(tradable)\n",
    "df = df.join(shortable)"
   ]
  },
  {
   "cell_type": "code",
   "execution_count": 119,
   "metadata": {},
   "outputs": [],
   "source": [
    "from alpaca.data import StockHistoricalDataClient\n",
    "from alpaca.data.requests import StockLatestQuoteRequest\n",
    "\n",
    "data_client = StockHistoricalDataClient(KEY, SECRET_KEY)\n",
    "params = StockLatestQuoteRequest(\n",
    "  symbol_or_symbols=df.index.to_list()\n",
    ")\n",
    "quotes = data_client.get_stock_latest_quote(params)\n",
    "ask = {x: quotes[x].ask_price for x in quotes}\n",
    "ask = pd.DataFrame(data = ask.values(), index = ask.keys(), columns=['ask'])\n",
    "bid = {x: quotes[x].bid_price for x in quotes}\n",
    "bid = pd.DataFrame(data=bid.values(), index = bid.keys(), columns=['bid'])\n",
    "df = df.join(ask)\n",
    "df = df.join(bid)"
   ]
  },
  {
   "cell_type": "code",
   "execution_count": 120,
   "metadata": {},
   "outputs": [],
   "source": [
    "account = trading_client.get_account()\n",
    "equity = float(account.equity)\n",
    "\n",
    "current = trading_client.get_all_positions()\n",
    "if len(current) > 0:\n",
    "  df[\"current\"] = {x.symbol: int(x.qty) for x in current}\n",
    "  df[\"current\"] = df.current.fillna(0)\n",
    "else:\n",
    "  df[\"current\"] = 0"
   ]
  },
  {
   "cell_type": "code",
   "execution_count": 126,
   "metadata": {},
   "outputs": [],
   "source": [
    "df.dropna(inplace=True)"
   ]
  },
  {
   "cell_type": "code",
   "execution_count": 127,
   "metadata": {},
   "outputs": [],
   "source": [
    "num_long = num_short = 100\n",
    "\n",
    "best = df[df.tradable].sort_values(by=\"predict\").iloc[-num_long:]\n",
    "best[\"target\"] = (equity / num_long) / best.ask\n",
    "\n",
    "worst = df[df.shortable].sort_values(by=\"predict\").iloc[:num_short]\n",
    "worst[\"target\"] = - (equity / num_short) / worst.bid"
   ]
  },
  {
   "attachments": {},
   "cell_type": "markdown",
   "metadata": {},
   "source": [
    "# Make trades\n",
    "## You can only make trades when the market is open"
   ]
  },
  {
   "cell_type": "code",
   "execution_count": 128,
   "metadata": {},
   "outputs": [],
   "source": [
    "from alpaca.data.requests import StockLatestQuoteRequest\n",
    "from alpaca.trading.requests import MarketOrderRequest, GetAssetsRequest\n",
    "from alpaca.trading.enums import OrderSide, TimeInForce, AssetClass"
   ]
  },
  {
   "cell_type": "code",
   "execution_count": null,
   "metadata": {},
   "outputs": [],
   "source": [
    "for tick in worst.index: \n",
    "    if worst.loc[tick, \"target\"]<0:\n",
    "        try:\n",
    "            market_order_data = MarketOrderRequest(\n",
    "                symbol=tick,\n",
    "                qty=-worst.loc[tick, \"target\"],\n",
    "                side=OrderSide.SELL,\n",
    "                time_in_force=TimeInForce.DAY\n",
    "            )\n",
    "            market_order = trading_client.submit_order(\n",
    "                order_data=market_order_data\n",
    "            )\n",
    "            print(market_order)\n",
    "        except Exception as e:\n",
    "            print(e)\n",
    "            print(f\"sell order for {tick} failed\")\n",
    "\n",
    "for tick in best.index: \n",
    "    if best.loc[tick, \"target\"]>0:\n",
    "        try:\n",
    "            market_order_data = MarketOrderRequest(\n",
    "                symbol=tick,\n",
    "                qty=best.loc[tick, \"target\"],\n",
    "                side=OrderSide.BUY,\n",
    "                time_in_force=TimeInForce.DAY\n",
    "            )\n",
    "            market_order = trading_client.submit_order(\n",
    "                order_data=market_order_data\n",
    "            )\n",
    "            print(market_order)\n",
    "        except Exception as e:\n",
    "            print(e)\n",
    "            print(f\"buy order for {tick} failed\")"
   ]
  },
  {
   "cell_type": "code",
   "execution_count": null,
   "metadata": {},
   "outputs": [],
   "source": []
  }
 ],
 "metadata": {
  "kernelspec": {
   "display_name": "myenv",
   "language": "python",
   "name": "python3"
  },
  "language_info": {
   "codemirror_mode": {
    "name": "ipython",
    "version": 3
   },
   "file_extension": ".py",
   "mimetype": "text/x-python",
   "name": "python",
   "nbconvert_exporter": "python",
   "pygments_lexer": "ipython3",
   "version": "3.7.13"
  },
  "orig_nbformat": 4,
  "vscode": {
   "interpreter": {
    "hash": "09ac0f642c4809c63ace70dc888cbd5b35159287af3895fb76989324c78b2f31"
   }
  }
 },
 "nbformat": 4,
 "nbformat_minor": 2
}
