{
 "cells": [
  {
   "attachments": {},
   "cell_type": "markdown",
   "metadata": {},
   "source": [
    "# Repeat from 4b"
   ]
  },
  {
   "cell_type": "code",
   "execution_count": 8,
   "metadata": {},
   "outputs": [],
   "source": [
    "from sqlalchemy import create_engine\n",
    "import pymssql\n",
    "import pandas as pd\n",
    "\n",
    "from sklearn.preprocessing import QuantileTransformer\n",
    "from sklearn.preprocessing import PolynomialFeatures\n",
    "from sklearn.preprocessing import OneHotEncoder\n",
    "from sklearn.compose import make_column_transformer\n",
    "from sklearn.pipeline import make_pipeline\n",
    "from sklearn.linear_model import LinearRegression"
   ]
  },
  {
   "cell_type": "code",
   "execution_count": 9,
   "metadata": {},
   "outputs": [],
   "source": [
    "server = \"mssql-82792-0.cloudclusters.net:16272\"\n",
    "username = \"user\"\n",
    "password = \"RiceOwls1912\" \n",
    "database = \"ghz\"\n",
    "string = \"mssql+pymssql://\" + username + \":\" + password + \"@\" + server + \"/\" + database\n",
    "\n",
    "conn = create_engine(string).connect()"
   ]
  },
  {
   "cell_type": "code",
   "execution_count": 10,
   "metadata": {},
   "outputs": [],
   "source": [
    "df = pd.read_sql(\n",
    "    \"\"\"\n",
    "    select date, ticker, bm, mom12m, roeq, siccd, ret\n",
    "    from data\n",
    "    order by date, ticker\n",
    "    \"\"\",\n",
    "    conn\n",
    ")\n",
    "df = df.dropna()\n",
    "df = df.set_index([\"date\", \"ticker\"])\n",
    "features = [\"bm\", \"mom12m\", \"roeq\"]"
   ]
  },
  {
   "cell_type": "code",
   "execution_count": 11,
   "metadata": {},
   "outputs": [],
   "source": [
    "df[\"actual\"] = df.ret\n",
    "\n",
    "qt = QuantileTransformer(output_distribution=\"normal\")\n",
    "\n",
    "grouped = df.groupby(\"date\", group_keys=False)\n",
    "df[features+[\"ret\"]] = grouped[features+[\"ret\"]].apply(\n",
    "  lambda d: \n",
    "    pd.DataFrame(\n",
    "      qt.fit_transform(d),\n",
    "      columns=d.columns,\n",
    "      index=d.index\n",
    "    )     \n",
    ")"
   ]
  },
  {
   "cell_type": "code",
   "execution_count": 12,
   "metadata": {},
   "outputs": [],
   "source": [
    "inds = pd.read_csv(\"siccodes12.csv\", index_col=\"industry\")\n",
    "ind_names = inds.index.unique().to_list()\n",
    "\n",
    "def industry(sic):\n",
    "  try:\n",
    "    return inds[(inds.start<=sic)&(sic<=inds.end)].index[0]\n",
    "  except:\n",
    "    return \"Other\"\n",
    "    \n",
    "codes = pd.Series({code: industry(code) for code in df.siccd.unique()})\n",
    "codes = pd.DataFrame(codes).reset_index()\n",
    "codes.columns = [\"siccd\", \"industry\"]\n",
    "\n",
    "df = df.reset_index().merge(codes, on=\"siccd\")\n",
    "df = df.set_index([\"date\", \"ticker\"])\n",
    "\n",
    "features.append(\"industry\")"
   ]
  },
  {
   "cell_type": "code",
   "execution_count": 13,
   "metadata": {},
   "outputs": [],
   "source": [
    "transform1 = make_column_transformer(\n",
    "    (OneHotEncoder(), [\"industry\"]),\n",
    "    remainder=\"passthrough\"\n",
    ")\n",
    "transform2 = PolynomialFeatures(degree=2)\n",
    "\n",
    "model = LinearRegression(fit_intercept=False)\n",
    "\n",
    "pipe = make_pipeline(\n",
    "    transform1,\n",
    "    transform2,\n",
    "    model\n",
    ")"
   ]
  },
  {
   "attachments": {},
   "cell_type": "markdown",
   "metadata": {},
   "source": [
    "# Looping"
   ]
  },
  {
   "cell_type": "code",
   "execution_count": 14,
   "metadata": {},
   "outputs": [
    {
     "name": "stdout",
     "output_type": "stream",
     "text": [
      "Train set score: 0.009574115159901586\n",
      "Test set score: 0.0013746247784026666\n",
      "Train set score: 0.0071837171081828854\n",
      "Test set score: 0.004316121411689466\n",
      "Train set score: 0.006708201060152463\n",
      "Test set score: 0.006813239389918402\n",
      "Train set score: 0.006925977434913633\n",
      "Test set score: 0.0012359345409036493\n"
     ]
    }
   ],
   "source": [
    "dates = [\"2005-01\", \"2010-01\", \"2015-01\", \"2020-01\", \"3000-01\"]\n",
    "predictions = None\n",
    "\n",
    "for train_date, end_date in zip(dates[:-1], dates[1:]):\n",
    "  \n",
    "  fltr1 = df.index.get_level_values(\"date\") < train_date\n",
    "  fltr2 = df.index.get_level_values(\"date\") < end_date\n",
    "  train = df[fltr1]\n",
    "  test = df[~fltr1 & fltr2]\n",
    "\n",
    "  Xtrain = train[features]\n",
    "  ytrain = train[\"ret\"]\n",
    "  Xtest = test[features]\n",
    "  ytest = test[\"ret\"]\n",
    "\n",
    "  pipe.fit(Xtrain, ytrain)\n",
    "  print('Train set score: ' + str(pipe.score(Xtrain, ytrain)))\n",
    "\n",
    "  pred = pipe.predict(Xtest)\n",
    "  pred = pd.Series(pred, index=test.index)\n",
    "  predictions = pd.concat((predictions, pred))\n",
    "  print('Test set score: ' + str(pipe.score(Xtest,ytest)))\n",
    "  \n",
    "df[\"predict\"] = predictions"
   ]
  }
 ],
 "metadata": {
  "kernelspec": {
   "display_name": "myenv",
   "language": "python",
   "name": "python3"
  },
  "language_info": {
   "codemirror_mode": {
    "name": "ipython",
    "version": 3
   },
   "file_extension": ".py",
   "mimetype": "text/x-python",
   "name": "python",
   "nbconvert_exporter": "python",
   "pygments_lexer": "ipython3",
   "version": "3.10.8"
  },
  "orig_nbformat": 4,
  "vscode": {
   "interpreter": {
    "hash": "09ac0f642c4809c63ace70dc888cbd5b35159287af3895fb76989324c78b2f31"
   }
  }
 },
 "nbformat": 4,
 "nbformat_minor": 2
}
