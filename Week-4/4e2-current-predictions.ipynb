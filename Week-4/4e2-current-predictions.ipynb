{
 "cells": [
  {
   "cell_type": "code",
   "execution_count": 1,
   "metadata": {},
   "outputs": [],
   "source": [
    "from sqlalchemy import create_engine\n",
    "import pymssql\n",
    "import pandas as pd\n",
    "\n",
    "from sklearn.preprocessing import QuantileTransformer\n",
    "from joblib import load"
   ]
  },
  {
   "attachments": {},
   "cell_type": "markdown",
   "metadata": {},
   "source": [
    "# Load pipeline"
   ]
  },
  {
   "cell_type": "code",
   "execution_count": 2,
   "metadata": {},
   "outputs": [],
   "source": [
    "pipe = load(\"mypipe.joblib\")"
   ]
  },
  {
   "cell_type": "markdown",
   "metadata": {},
   "source": [
    "# Get data"
   ]
  },
  {
   "cell_type": "code",
   "execution_count": 3,
   "metadata": {},
   "outputs": [],
   "source": [
    "server = 'fs.rice.edu'\n",
    "database = 'stocks'\n",
    "username = 'stocks'\n",
    "password = '6LAZH1'\n",
    "string = \"mssql+pymssql://\" + username + \":\" + password + \"@\" + server + \"/\" + database \n",
    "\n",
    "conn = create_engine(string).connect()"
   ]
  },
  {
   "cell_type": "code",
   "execution_count": 4,
   "metadata": {},
   "outputs": [],
   "source": [
    "df = pd.read_sql(\n",
    "    \"\"\"\n",
    "    select ticker, bm, mom12m, roeq, siccd\n",
    "    from ghz\n",
    "    order by ticker\n",
    "    \"\"\",\n",
    "    conn\n",
    ")\n",
    "df = df.dropna()\n",
    "df = df.set_index(\"ticker\")\n",
    "features = [\"bm\", \"mom12m\", \"roeq\"]"
   ]
  },
  {
   "attachments": {},
   "cell_type": "markdown",
   "metadata": {},
   "source": [
    "# If you cannot access the Rice database\n",
    "\n",
    "Execute the following to test the subsequent code if you cannot access the Rice database.  Eventually, another solution must be found."
   ]
  },
  {
   "cell_type": "code",
   "execution_count": null,
   "metadata": {},
   "outputs": [],
   "source": [
    "df = pd.read_csv(\"ghz.csv\")\n",
    "features = [\"bm\", \"mom12m\", \"roeq\"]"
   ]
  },
  {
   "attachments": {},
   "cell_type": "markdown",
   "metadata": {},
   "source": [
    "# Quantile transform"
   ]
  },
  {
   "cell_type": "code",
   "execution_count": 22,
   "metadata": {},
   "outputs": [],
   "source": [
    "qt = QuantileTransformer(output_distribution=\"normal\")\n",
    "df[features] = qt.fit_transform(df[features])"
   ]
  },
  {
   "attachments": {},
   "cell_type": "markdown",
   "metadata": {},
   "source": [
    "# Define industry variable"
   ]
  },
  {
   "cell_type": "code",
   "execution_count": 23,
   "metadata": {},
   "outputs": [],
   "source": [
    "inds = pd.read_csv(\"siccodes12.csv\", index_col=\"industry\")\n",
    "ind_names = inds.index.unique().to_list()\n",
    "\n",
    "def industry(sic):\n",
    "  try:\n",
    "    return inds[(inds.start<=sic)&(sic<=inds.end)].index[0]\n",
    "  except:\n",
    "    return \"Other\"\n",
    "    \n",
    "df[\"industry\"] = df.siccd.map(industry)\n",
    "features.append(\"industry\")"
   ]
  },
  {
   "attachments": {},
   "cell_type": "markdown",
   "metadata": {},
   "source": [
    "# Make predictions"
   ]
  },
  {
   "cell_type": "code",
   "execution_count": 24,
   "metadata": {},
   "outputs": [
    {
     "data": {
      "text/plain": [
       "ticker\n",
       "A       0.016892\n",
       "AA     -0.065113\n",
       "AADI   -0.082670\n",
       "AAN    -0.073371\n",
       "AAON    0.056878\n",
       "Name: predict, dtype: float64"
      ]
     },
     "execution_count": 24,
     "metadata": {},
     "output_type": "execute_result"
    }
   ],
   "source": [
    "df[\"predict\"] = pipe.predict(df[features])\n",
    "df.predict.head()"
   ]
  }
 ],
 "metadata": {
  "kernelspec": {
   "display_name": "myenv",
   "language": "python",
   "name": "python3"
  },
  "language_info": {
   "codemirror_mode": {
    "name": "ipython",
    "version": 3
   },
   "file_extension": ".py",
   "mimetype": "text/x-python",
   "name": "python",
   "nbconvert_exporter": "python",
   "pygments_lexer": "ipython3",
   "version": "3.10.8"
  },
  "orig_nbformat": 4,
  "vscode": {
   "interpreter": {
    "hash": "09ac0f642c4809c63ace70dc888cbd5b35159287af3895fb76989324c78b2f31"
   }
  }
 },
 "nbformat": 4,
 "nbformat_minor": 2
}
