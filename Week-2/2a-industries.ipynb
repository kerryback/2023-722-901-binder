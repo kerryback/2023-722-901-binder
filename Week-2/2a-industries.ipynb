{
 "cells": [
  {
   "attachments": {},
   "cell_type": "markdown",
   "metadata": {},
   "source": [
    "# Industries"
   ]
  },
  {
   "cell_type": "code",
   "execution_count": 3,
   "metadata": {},
   "outputs": [],
   "source": [
    "import pandas as pd\n",
    "from sqlalchemy import create_engine"
   ]
  },
  {
   "attachments": {},
   "cell_type": "markdown",
   "metadata": {},
   "source": [
    "## Explore siccodes csv"
   ]
  },
  {
   "cell_type": "code",
   "execution_count": 2,
   "metadata": {},
   "outputs": [
    {
     "data": {
      "text/html": [
       "<div>\n",
       "<style scoped>\n",
       "    .dataframe tbody tr th:only-of-type {\n",
       "        vertical-align: middle;\n",
       "    }\n",
       "\n",
       "    .dataframe tbody tr th {\n",
       "        vertical-align: top;\n",
       "    }\n",
       "\n",
       "    .dataframe thead th {\n",
       "        text-align: right;\n",
       "    }\n",
       "</style>\n",
       "<table border=\"1\" class=\"dataframe\">\n",
       "  <thead>\n",
       "    <tr style=\"text-align: right;\">\n",
       "      <th></th>\n",
       "      <th>Unnamed: 0</th>\n",
       "      <th>start</th>\n",
       "      <th>end</th>\n",
       "      <th>industry</th>\n",
       "    </tr>\n",
       "  </thead>\n",
       "  <tbody>\n",
       "    <tr>\n",
       "      <th>0</th>\n",
       "      <td>0</td>\n",
       "      <td>100</td>\n",
       "      <td>999</td>\n",
       "      <td>Consumer Nondurables</td>\n",
       "    </tr>\n",
       "    <tr>\n",
       "      <th>1</th>\n",
       "      <td>1</td>\n",
       "      <td>2000</td>\n",
       "      <td>2399</td>\n",
       "      <td>Consumer Nondurables</td>\n",
       "    </tr>\n",
       "    <tr>\n",
       "      <th>2</th>\n",
       "      <td>2</td>\n",
       "      <td>2700</td>\n",
       "      <td>2749</td>\n",
       "      <td>Consumer Nondurables</td>\n",
       "    </tr>\n",
       "    <tr>\n",
       "      <th>3</th>\n",
       "      <td>3</td>\n",
       "      <td>2770</td>\n",
       "      <td>2799</td>\n",
       "      <td>Consumer Nondurables</td>\n",
       "    </tr>\n",
       "    <tr>\n",
       "      <th>4</th>\n",
       "      <td>4</td>\n",
       "      <td>3100</td>\n",
       "      <td>3199</td>\n",
       "      <td>Consumer Nondurables</td>\n",
       "    </tr>\n",
       "  </tbody>\n",
       "</table>\n",
       "</div>"
      ],
      "text/plain": [
       "   Unnamed: 0  start   end              industry\n",
       "0           0    100   999  Consumer Nondurables\n",
       "1           1   2000  2399  Consumer Nondurables\n",
       "2           2   2700  2749  Consumer Nondurables\n",
       "3           3   2770  2799  Consumer Nondurables\n",
       "4           4   3100  3199  Consumer Nondurables"
      ]
     },
     "execution_count": 2,
     "metadata": {},
     "output_type": "execute_result"
    }
   ],
   "source": [
    "siccd_codes = pd.read_csv('./siccodes12.csv')\n",
    "siccd_codes.head()"
   ]
  },
  {
   "attachments": {},
   "cell_type": "markdown",
   "metadata": {},
   "source": [
    "## Connect to database"
   ]
  },
  {
   "cell_type": "code",
   "execution_count": 4,
   "metadata": {},
   "outputs": [],
   "source": [
    "server = \"mssql-82792-0.cloudclusters.net:16272\"\n",
    "username = \"user\"\n",
    "password = \"RiceOwls1912\" \n",
    "database = \"ghz\"\n",
    "string = \"mssql+pymssql://\" + username + \":\" + password + \"@\" + server + \"/\" + database\n",
    "\n",
    "conn = create_engine(string).connect()"
   ]
  },
  {
   "cell_type": "markdown",
   "metadata": {},
   "source": [
    "## GET DATA"
   ]
  },
  {
   "cell_type": "code",
   "execution_count": 33,
   "metadata": {},
   "outputs": [],
   "source": [
    "df = pd.read_sql(\n",
    "    \"\"\"\n",
    "    select date, ticker, bm, roeq, ret, siccd\n",
    "    from data\n",
    "    where date='2020-01'\n",
    "    order by date, ticker\n",
    "    \"\"\",\n",
    "    conn\n",
    "  )\n",
    "df = df.dropna()\n",
    "df = df.set_index([\"date\", \"ticker\"])"
   ]
  },
  {
   "cell_type": "code",
   "execution_count": 34,
   "metadata": {},
   "outputs": [
    {
     "data": {
      "text/html": [
       "<div>\n",
       "<style scoped>\n",
       "    .dataframe tbody tr th:only-of-type {\n",
       "        vertical-align: middle;\n",
       "    }\n",
       "\n",
       "    .dataframe tbody tr th {\n",
       "        vertical-align: top;\n",
       "    }\n",
       "\n",
       "    .dataframe thead th {\n",
       "        text-align: right;\n",
       "    }\n",
       "</style>\n",
       "<table border=\"1\" class=\"dataframe\">\n",
       "  <thead>\n",
       "    <tr style=\"text-align: right;\">\n",
       "      <th></th>\n",
       "      <th></th>\n",
       "      <th>bm</th>\n",
       "      <th>roeq</th>\n",
       "      <th>ret</th>\n",
       "      <th>siccd</th>\n",
       "    </tr>\n",
       "    <tr>\n",
       "      <th>date</th>\n",
       "      <th>ticker</th>\n",
       "      <th></th>\n",
       "      <th></th>\n",
       "      <th></th>\n",
       "      <th></th>\n",
       "    </tr>\n",
       "  </thead>\n",
       "  <tbody>\n",
       "    <tr>\n",
       "      <th rowspan=\"5\" valign=\"top\">2020-01</th>\n",
       "      <th>A</th>\n",
       "      <td>0.221863</td>\n",
       "      <td>0.037268</td>\n",
       "      <td>-0.032235</td>\n",
       "      <td>3826</td>\n",
       "    </tr>\n",
       "    <tr>\n",
       "      <th>AAL</th>\n",
       "      <td>-0.011426</td>\n",
       "      <td>-1.040881</td>\n",
       "      <td>-0.064156</td>\n",
       "      <td>4512</td>\n",
       "    </tr>\n",
       "    <tr>\n",
       "      <th>AAMC</th>\n",
       "      <td>-4.432845</td>\n",
       "      <td>-0.013082</td>\n",
       "      <td>0.093927</td>\n",
       "      <td>6211</td>\n",
       "    </tr>\n",
       "    <tr>\n",
       "      <th>AAME</th>\n",
       "      <td>2.085421</td>\n",
       "      <td>-0.039700</td>\n",
       "      <td>0.121827</td>\n",
       "      <td>6320</td>\n",
       "    </tr>\n",
       "    <tr>\n",
       "      <th>AAN</th>\n",
       "      <td>0.623240</td>\n",
       "      <td>0.023518</td>\n",
       "      <td>0.039398</td>\n",
       "      <td>7359</td>\n",
       "    </tr>\n",
       "  </tbody>\n",
       "</table>\n",
       "</div>"
      ],
      "text/plain": [
       "                      bm      roeq       ret  siccd\n",
       "date    ticker                                     \n",
       "2020-01 A       0.221863  0.037268 -0.032235   3826\n",
       "        AAL    -0.011426 -1.040881 -0.064156   4512\n",
       "        AAMC   -4.432845 -0.013082  0.093927   6211\n",
       "        AAME    2.085421 -0.039700  0.121827   6320\n",
       "        AAN     0.623240  0.023518  0.039398   7359"
      ]
     },
     "execution_count": 34,
     "metadata": {},
     "output_type": "execute_result"
    }
   ],
   "source": [
    "df.head()"
   ]
  },
  {
   "attachments": {},
   "cell_type": "markdown",
   "metadata": {},
   "source": [
    "## Get Industry Example"
   ]
  },
  {
   "cell_type": "code",
   "execution_count": 28,
   "metadata": {},
   "outputs": [],
   "source": [
    "def get_industry(sicc):\n",
    "    filtered_row = siccd_codes[((siccd_codes['start'] < sicc) & (sicc < siccd_codes['end']))]\n",
    "    return filtered_row['industry'].values[0] if not filtered_row.empty else 'Other'"
   ]
  },
  {
   "attachments": {},
   "cell_type": "markdown",
   "metadata": {},
   "source": [
    "## Add industry to a dataframe"
   ]
  },
  {
   "cell_type": "code",
   "execution_count": 35,
   "metadata": {},
   "outputs": [],
   "source": [
    "industries = [get_industry(sicc) for sicc in df['siccd'].values.tolist()]\n",
    "df['industry'] = industries"
   ]
  },
  {
   "cell_type": "code",
   "execution_count": 36,
   "metadata": {},
   "outputs": [
    {
     "data": {
      "text/html": [
       "<div>\n",
       "<style scoped>\n",
       "    .dataframe tbody tr th:only-of-type {\n",
       "        vertical-align: middle;\n",
       "    }\n",
       "\n",
       "    .dataframe tbody tr th {\n",
       "        vertical-align: top;\n",
       "    }\n",
       "\n",
       "    .dataframe thead th {\n",
       "        text-align: right;\n",
       "    }\n",
       "</style>\n",
       "<table border=\"1\" class=\"dataframe\">\n",
       "  <thead>\n",
       "    <tr style=\"text-align: right;\">\n",
       "      <th></th>\n",
       "      <th></th>\n",
       "      <th>bm</th>\n",
       "      <th>roeq</th>\n",
       "      <th>ret</th>\n",
       "      <th>siccd</th>\n",
       "      <th>industry</th>\n",
       "    </tr>\n",
       "    <tr>\n",
       "      <th>date</th>\n",
       "      <th>ticker</th>\n",
       "      <th></th>\n",
       "      <th></th>\n",
       "      <th></th>\n",
       "      <th></th>\n",
       "      <th></th>\n",
       "    </tr>\n",
       "  </thead>\n",
       "  <tbody>\n",
       "    <tr>\n",
       "      <th rowspan=\"5\" valign=\"top\">2020-01</th>\n",
       "      <th>A</th>\n",
       "      <td>0.221863</td>\n",
       "      <td>0.037268</td>\n",
       "      <td>-0.032235</td>\n",
       "      <td>3826</td>\n",
       "      <td>Business Equipment</td>\n",
       "    </tr>\n",
       "    <tr>\n",
       "      <th>AAL</th>\n",
       "      <td>-0.011426</td>\n",
       "      <td>-1.040881</td>\n",
       "      <td>-0.064156</td>\n",
       "      <td>4512</td>\n",
       "      <td>Other</td>\n",
       "    </tr>\n",
       "    <tr>\n",
       "      <th>AAMC</th>\n",
       "      <td>-4.432845</td>\n",
       "      <td>-0.013082</td>\n",
       "      <td>0.093927</td>\n",
       "      <td>6211</td>\n",
       "      <td>Finance</td>\n",
       "    </tr>\n",
       "    <tr>\n",
       "      <th>AAME</th>\n",
       "      <td>2.085421</td>\n",
       "      <td>-0.039700</td>\n",
       "      <td>0.121827</td>\n",
       "      <td>6320</td>\n",
       "      <td>Finance</td>\n",
       "    </tr>\n",
       "    <tr>\n",
       "      <th>AAN</th>\n",
       "      <td>0.623240</td>\n",
       "      <td>0.023518</td>\n",
       "      <td>0.039398</td>\n",
       "      <td>7359</td>\n",
       "      <td>Other</td>\n",
       "    </tr>\n",
       "  </tbody>\n",
       "</table>\n",
       "</div>"
      ],
      "text/plain": [
       "                      bm      roeq       ret  siccd            industry\n",
       "date    ticker                                                         \n",
       "2020-01 A       0.221863  0.037268 -0.032235   3826  Business Equipment\n",
       "        AAL    -0.011426 -1.040881 -0.064156   4512               Other\n",
       "        AAMC   -4.432845 -0.013082  0.093927   6211             Finance\n",
       "        AAME    2.085421 -0.039700  0.121827   6320             Finance\n",
       "        AAN     0.623240  0.023518  0.039398   7359               Other"
      ]
     },
     "execution_count": 36,
     "metadata": {},
     "output_type": "execute_result"
    }
   ],
   "source": [
    "df.head()"
   ]
  },
  {
   "attachments": {},
   "cell_type": "markdown",
   "metadata": {},
   "source": [
    "## Get dummies"
   ]
  },
  {
   "cell_type": "code",
   "execution_count": 37,
   "metadata": {},
   "outputs": [
    {
     "data": {
      "text/plain": [
       "bm                     -0.006009\n",
       "roeq                   -0.007469\n",
       "Business Equipment      0.004973\n",
       "Chemicals              -0.068784\n",
       "Consumer Durables      -0.002736\n",
       "Consumer Nondurables   -0.037517\n",
       "Energy                 -0.163522\n",
       "Finance                -0.032537\n",
       "Healthcare              0.025760\n",
       "Manufacturing          -0.037312\n",
       "Other                   0.008585\n",
       "Shops                  -0.042680\n",
       "Telecommunications      0.020978\n",
       "Utilities               0.027846\n",
       "dtype: float64"
      ]
     },
     "execution_count": 37,
     "metadata": {},
     "output_type": "execute_result"
    }
   ],
   "source": [
    "from sklearn.linear_model import LinearRegression\n",
    "\n",
    "d = pd.get_dummies(df.industry)\n",
    "ind_names = d.columns.to_list()\n",
    "features = [\"bm\", \"roeq\"] + ind_names\n",
    "df2 = df.join(d)\n",
    "\n",
    "model = LinearRegression(fit_intercept=False)\n",
    "model.fit(df2[features], df2[\"ret\"])\n",
    "pd.Series(model.coef_, index=features)"
   ]
  },
  {
   "attachments": {},
   "cell_type": "markdown",
   "metadata": {},
   "source": [
    "## One hot encoder"
   ]
  },
  {
   "cell_type": "code",
   "execution_count": 38,
   "metadata": {},
   "outputs": [
    {
     "data": {
      "text/plain": [
       "array([ 0.00497305, -0.06878386, -0.00273576, -0.03751717, -0.16352194,\n",
       "       -0.03253673,  0.02575975, -0.03731164,  0.00858517, -0.04267995,\n",
       "        0.02097824,  0.02784589, -0.0060085 , -0.00746868])"
      ]
     },
     "execution_count": 38,
     "metadata": {},
     "output_type": "execute_result"
    }
   ],
   "source": [
    "from sklearn.compose import make_column_transformer\n",
    "from sklearn.preprocessing import OneHotEncoder\n",
    "from sklearn.pipeline import make_pipeline\n",
    "\n",
    "transform = make_column_transformer(\n",
    "    (OneHotEncoder(), [\"industry\"]),\n",
    "    remainder=\"passthrough\"\n",
    ")\n",
    "\n",
    "model = LinearRegression(fit_intercept=False)\n",
    "pipe = make_pipeline(transform, model)\n",
    "pipe.fit(df[[\"bm\", \"roeq\", \"industry\"]], df[\"ret\"])\n",
    "model.coef_"
   ]
  }
 ],
 "metadata": {
  "kernelspec": {
   "display_name": "myenv",
   "language": "python",
   "name": "python3"
  },
  "language_info": {
   "codemirror_mode": {
    "name": "ipython",
    "version": 3
   },
   "file_extension": ".py",
   "mimetype": "text/x-python",
   "name": "python",
   "nbconvert_exporter": "python",
   "pygments_lexer": "ipython3",
   "version": "3.7.13"
  },
  "orig_nbformat": 4,
  "vscode": {
   "interpreter": {
    "hash": "09ac0f642c4809c63ace70dc888cbd5b35159287af3895fb76989324c78b2f31"
   }
  }
 },
 "nbformat": 4,
 "nbformat_minor": 2
}
