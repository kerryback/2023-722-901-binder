{
 "cells": [
  {
   "cell_type": "code",
   "execution_count": 1,
   "metadata": {},
   "outputs": [],
   "source": [
    "from sqlalchemy import create_engine\n",
    "import pymssql\n",
    "import pandas as pd"
   ]
  },
  {
   "cell_type": "markdown",
   "metadata": {},
   "source": [
    "## CONNECT TO THE GHZ DATABASE"
   ]
  },
  {
   "cell_type": "code",
   "execution_count": 2,
   "metadata": {},
   "outputs": [],
   "source": [
    "server = \"mssql-82792-0.cloudclusters.net:16272\"\n",
    "username = \"user\"\n",
    "password = \"RiceOwls1912\" \n",
    "database = \"ghz\"\n",
    "string = \"mssql+pymssql://\" + username + \":\" + password + \"@\" + server + \"/\" + database\n",
    "\n",
    "conn = create_engine(string).connect()"
   ]
  },
  {
   "cell_type": "markdown",
   "metadata": {},
   "source": [
    "## GET DATA"
   ]
  },
  {
   "cell_type": "code",
   "execution_count": 3,
   "metadata": {},
   "outputs": [],
   "source": [
    "df = pd.read_sql(\n",
    "    \"\"\"\n",
    "    select date, ticker, bm, roeq, ret\n",
    "    from data\n",
    "    order by date, ticker\n",
    "    \"\"\",\n",
    "    conn\n",
    "  )\n",
    "df = df.dropna()\n",
    "df = df.set_index([\"date\", \"ticker\"])"
   ]
  },
  {
   "cell_type": "code",
   "execution_count": 4,
   "metadata": {},
   "outputs": [
    {
     "data": {
      "text/html": [
       "<div>\n",
       "<style scoped>\n",
       "    .dataframe tbody tr th:only-of-type {\n",
       "        vertical-align: middle;\n",
       "    }\n",
       "\n",
       "    .dataframe tbody tr th {\n",
       "        vertical-align: top;\n",
       "    }\n",
       "\n",
       "    .dataframe thead th {\n",
       "        text-align: right;\n",
       "    }\n",
       "</style>\n",
       "<table border=\"1\" class=\"dataframe\">\n",
       "  <thead>\n",
       "    <tr style=\"text-align: right;\">\n",
       "      <th></th>\n",
       "      <th></th>\n",
       "      <th>bm</th>\n",
       "      <th>roeq</th>\n",
       "      <th>ret</th>\n",
       "    </tr>\n",
       "    <tr>\n",
       "      <th>date</th>\n",
       "      <th>ticker</th>\n",
       "      <th></th>\n",
       "      <th></th>\n",
       "      <th></th>\n",
       "    </tr>\n",
       "  </thead>\n",
       "  <tbody>\n",
       "    <tr>\n",
       "      <th rowspan=\"5\" valign=\"top\">2000-01</th>\n",
       "      <th>AA</th>\n",
       "      <td>0.438760</td>\n",
       "      <td>0.039969</td>\n",
       "      <td>-0.160392</td>\n",
       "    </tr>\n",
       "    <tr>\n",
       "      <th>AAABB</th>\n",
       "      <td>0.850622</td>\n",
       "      <td>0.001384</td>\n",
       "      <td>-0.073529</td>\n",
       "    </tr>\n",
       "    <tr>\n",
       "      <th>AABC</th>\n",
       "      <td>1.107577</td>\n",
       "      <td>0.054207</td>\n",
       "      <td>-0.029528</td>\n",
       "    </tr>\n",
       "    <tr>\n",
       "      <th>AAC</th>\n",
       "      <td>1.893766</td>\n",
       "      <td>0.053986</td>\n",
       "      <td>0.056338</td>\n",
       "    </tr>\n",
       "    <tr>\n",
       "      <th>AACE</th>\n",
       "      <td>0.339860</td>\n",
       "      <td>0.049065</td>\n",
       "      <td>-0.067568</td>\n",
       "    </tr>\n",
       "    <tr>\n",
       "      <th>...</th>\n",
       "      <th>...</th>\n",
       "      <td>...</td>\n",
       "      <td>...</td>\n",
       "      <td>...</td>\n",
       "    </tr>\n",
       "    <tr>\n",
       "      <th rowspan=\"5\" valign=\"top\">2022-03</th>\n",
       "      <th>ZTS</th>\n",
       "      <td>0.047912</td>\n",
       "      <td>0.126897</td>\n",
       "      <td>-0.026130</td>\n",
       "    </tr>\n",
       "    <tr>\n",
       "      <th>ZUMZ</th>\n",
       "      <td>0.501082</td>\n",
       "      <td>0.041249</td>\n",
       "      <td>-0.141155</td>\n",
       "    </tr>\n",
       "    <tr>\n",
       "      <th>ZVO</th>\n",
       "      <td>0.387177</td>\n",
       "      <td>-0.110788</td>\n",
       "      <td>-0.261171</td>\n",
       "    </tr>\n",
       "    <tr>\n",
       "      <th>ZWS</th>\n",
       "      <td>0.304234</td>\n",
       "      <td>0.010288</td>\n",
       "      <td>0.088561</td>\n",
       "    </tr>\n",
       "    <tr>\n",
       "      <th>ZYNE</th>\n",
       "      <td>0.608022</td>\n",
       "      <td>-0.120663</td>\n",
       "      <td>-0.092920</td>\n",
       "    </tr>\n",
       "  </tbody>\n",
       "</table>\n",
       "<p>1018855 rows × 3 columns</p>\n",
       "</div>"
      ],
      "text/plain": [
       "                      bm      roeq       ret\n",
       "date    ticker                              \n",
       "2000-01 AA      0.438760  0.039969 -0.160392\n",
       "        AAABB   0.850622  0.001384 -0.073529\n",
       "        AABC    1.107577  0.054207 -0.029528\n",
       "        AAC     1.893766  0.053986  0.056338\n",
       "        AACE    0.339860  0.049065 -0.067568\n",
       "...                  ...       ...       ...\n",
       "2022-03 ZTS     0.047912  0.126897 -0.026130\n",
       "        ZUMZ    0.501082  0.041249 -0.141155\n",
       "        ZVO     0.387177 -0.110788 -0.261171\n",
       "        ZWS     0.304234  0.010288  0.088561\n",
       "        ZYNE    0.608022 -0.120663 -0.092920\n",
       "\n",
       "[1018855 rows x 3 columns]"
      ]
     },
     "execution_count": 4,
     "metadata": {},
     "output_type": "execute_result"
    }
   ],
   "source": [
    "df"
   ]
  },
  {
   "cell_type": "code",
   "execution_count": null,
   "metadata": {},
   "outputs": [],
   "source": []
  }
 ],
 "metadata": {
  "kernelspec": {
   "display_name": "venv",
   "language": "python",
   "name": "python3"
  },
  "language_info": {
   "codemirror_mode": {
    "name": "ipython",
    "version": 3
   },
   "file_extension": ".py",
   "mimetype": "text/x-python",
   "name": "python",
   "nbconvert_exporter": "python",
   "pygments_lexer": "ipython3",
   "version": "3.10.8"
  },
  "orig_nbformat": 4,
  "vscode": {
   "interpreter": {
    "hash": "806edc465990cf2712ceac53e69d4ea303060bcf55a3436082118329044431ce"
   }
  }
 },
 "nbformat": 4,
 "nbformat_minor": 2
}
