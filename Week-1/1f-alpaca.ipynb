{
 "cells": [
  {
   "attachments": {},
   "cell_type": "markdown",
   "metadata": {},
   "source": [
    "# Alpaca"
   ]
  },
  {
   "attachments": {},
   "cell_type": "markdown",
   "metadata": {},
   "source": [
    "## Install alpaca"
   ]
  },
  {
   "cell_type": "code",
   "execution_count": 4,
   "metadata": {},
   "outputs": [
    {
     "name": "stdout",
     "output_type": "stream",
     "text": [
      "Requirement already satisfied: alpaca-py in c:\\users\\kerry\\appdata\\local\\programs\\python\\python313\\lib\\site-packages (0.39.0)\n",
      "Requirement already satisfied: msgpack<2.0.0,>=1.0.3 in c:\\users\\kerry\\appdata\\local\\programs\\python\\python313\\lib\\site-packages (from alpaca-py) (1.1.0)\n",
      "Requirement already satisfied: pandas>=1.5.3 in c:\\users\\kerry\\appdata\\local\\programs\\python\\python313\\lib\\site-packages (from alpaca-py) (2.2.3)\n",
      "Requirement already satisfied: pydantic<3.0.0,>=2.0.3 in c:\\users\\kerry\\appdata\\local\\programs\\python\\python313\\lib\\site-packages (from alpaca-py) (2.9.2)\n",
      "Requirement already satisfied: requests<3.0.0,>=2.30.0 in c:\\users\\kerry\\appdata\\local\\programs\\python\\python313\\lib\\site-packages (from alpaca-py) (2.32.3)\n",
      "Requirement already satisfied: sseclient-py<2.0.0,>=1.7.2 in c:\\users\\kerry\\appdata\\local\\programs\\python\\python313\\lib\\site-packages (from alpaca-py) (1.8.0)\n",
      "Requirement already satisfied: websockets>=10.4 in c:\\users\\kerry\\appdata\\local\\programs\\python\\python313\\lib\\site-packages (from alpaca-py) (13.1)\n",
      "Requirement already satisfied: numpy>=1.26.0 in c:\\users\\kerry\\appdata\\local\\programs\\python\\python313\\lib\\site-packages (from pandas>=1.5.3->alpaca-py) (2.1.3)\n",
      "Requirement already satisfied: python-dateutil>=2.8.2 in c:\\users\\kerry\\appdata\\local\\programs\\python\\python313\\lib\\site-packages (from pandas>=1.5.3->alpaca-py) (2.9.0.post0)\n",
      "Requirement already satisfied: pytz>=2020.1 in c:\\users\\kerry\\appdata\\local\\programs\\python\\python313\\lib\\site-packages (from pandas>=1.5.3->alpaca-py) (2024.2)\n",
      "Requirement already satisfied: tzdata>=2022.7 in c:\\users\\kerry\\appdata\\local\\programs\\python\\python313\\lib\\site-packages (from pandas>=1.5.3->alpaca-py) (2024.2)\n",
      "Requirement already satisfied: annotated-types>=0.6.0 in c:\\users\\kerry\\appdata\\local\\programs\\python\\python313\\lib\\site-packages (from pydantic<3.0.0,>=2.0.3->alpaca-py) (0.7.0)\n",
      "Requirement already satisfied: pydantic-core==2.23.4 in c:\\users\\kerry\\appdata\\local\\programs\\python\\python313\\lib\\site-packages (from pydantic<3.0.0,>=2.0.3->alpaca-py) (2.23.4)\n",
      "Requirement already satisfied: typing-extensions>=4.12.2 in c:\\users\\kerry\\appdata\\local\\programs\\python\\python313\\lib\\site-packages (from pydantic<3.0.0,>=2.0.3->alpaca-py) (4.12.2)\n",
      "Requirement already satisfied: charset-normalizer<4,>=2 in c:\\users\\kerry\\appdata\\local\\programs\\python\\python313\\lib\\site-packages (from requests<3.0.0,>=2.30.0->alpaca-py) (3.4.0)\n",
      "Requirement already satisfied: idna<4,>=2.5 in c:\\users\\kerry\\appdata\\local\\programs\\python\\python313\\lib\\site-packages (from requests<3.0.0,>=2.30.0->alpaca-py) (3.10)\n",
      "Requirement already satisfied: urllib3<3,>=1.21.1 in c:\\users\\kerry\\appdata\\local\\programs\\python\\python313\\lib\\site-packages (from requests<3.0.0,>=2.30.0->alpaca-py) (2.2.3)\n",
      "Requirement already satisfied: certifi>=2017.4.17 in c:\\users\\kerry\\appdata\\local\\programs\\python\\python313\\lib\\site-packages (from requests<3.0.0,>=2.30.0->alpaca-py) (2024.8.30)\n",
      "Requirement already satisfied: six>=1.5 in c:\\users\\kerry\\appdata\\local\\programs\\python\\python313\\lib\\site-packages (from python-dateutil>=2.8.2->pandas>=1.5.3->alpaca-py) (1.16.0)\n"
     ]
    }
   ],
   "source": [
    "!pip install alpaca-py"
   ]
  },
  {
   "attachments": {},
   "cell_type": "markdown",
   "metadata": {},
   "source": [
    "## CONNECT TO ALPACA"
   ]
  },
  {
   "cell_type": "code",
   "execution_count": 11,
   "metadata": {},
   "outputs": [],
   "source": [
    "from alpaca.trading.client import TradingClient\n",
    "from alpaca.trading.requests import MarketOrderRequest\n",
    "from alpaca.trading.enums import OrderSide, TimeInForce\n",
    "\n",
    "KEY = \"PK42K0RC3T1ZFAOHT778\"\n",
    "SECRET_KEY = \"waePXAWJaN03muDBbC1NHeoF6zsg7jfQcWHScUzX\"\n",
    "\n",
    "trading_client = TradingClient(KEY, SECRET_KEY, paper=True)"
   ]
  },
  {
   "cell_type": "code",
   "execution_count": 12,
   "metadata": {},
   "outputs": [
    {
     "name": "stdout",
     "output_type": "stream",
     "text": [
      "Account status: AccountStatus.ACTIVE\n",
      "Buying power: $296038.6\n"
     ]
    }
   ],
   "source": [
    "# Test API connection\n",
    "try:\n",
    "    account = trading_client.get_account()\n",
    "    print(f\"Account status: {account.status}\")\n",
    "    print(f\"Buying power: ${account.buying_power}\")\n",
    "except Exception as e:\n",
    "    print(f\"Error connecting to API: {e}\")"
   ]
  },
  {
   "attachments": {},
   "cell_type": "markdown",
   "metadata": {},
   "source": [
    "## BUY AAPL"
   ]
  },
  {
   "cell_type": "code",
   "execution_count": 18,
   "metadata": {},
   "outputs": [],
   "source": [
    "order = MarketOrderRequest(\n",
    "    symbol=\"AAPL\",\n",
    "    qty=1,\n",
    "    side=OrderSide.BUY,\n",
    "    time_in_force=TimeInForce.DAY\n",
    "    )\n",
    "_ = trading_client.submit_order(order_data=order)"
   ]
  },
  {
   "attachments": {},
   "cell_type": "markdown",
   "metadata": {},
   "source": [
    "## SHORT TSLA"
   ]
  },
  {
   "cell_type": "code",
   "execution_count": 19,
   "metadata": {},
   "outputs": [],
   "source": [
    "order = MarketOrderRequest(\n",
    "    symbol=\"TSLA\",\n",
    "    qty=5,\n",
    "    side=OrderSide.SELL,\n",
    "    time_in_force=TimeInForce.DAY\n",
    "    )\n",
    "_ = trading_client.submit_order(order_data=order)"
   ]
  },
  {
   "attachments": {},
   "cell_type": "markdown",
   "metadata": {},
   "source": [
    "## CHECK YOUR POSITIONS"
   ]
  },
  {
   "cell_type": "code",
   "execution_count": 20,
   "metadata": {},
   "outputs": [
    {
     "data": {
      "text/plain": [
       "[{   'asset_class': <AssetClass.US_EQUITY: 'us_equity'>,\n",
       "     'asset_id': UUID('b0b6dd9d-8b9b-48a9-ba46-b9d54906e415'),\n",
       "     'asset_marginable': True,\n",
       "     'avg_entry_price': '239.645',\n",
       "     'avg_entry_swap_rate': None,\n",
       "     'change_today': '0.0182084732078358',\n",
       "     'cost_basis': '479.29',\n",
       "     'current_price': '239.615',\n",
       "     'exchange': <AssetExchange.NASDAQ: 'NASDAQ'>,\n",
       "     'lastday_price': '235.33',\n",
       "     'market_value': '479.23',\n",
       "     'qty': '2',\n",
       "     'qty_available': '2',\n",
       "     'side': <PositionSide.LONG: 'long'>,\n",
       "     'swap_rate': None,\n",
       "     'symbol': 'AAPL',\n",
       "     'unrealized_intraday_pl': '-0.06',\n",
       "     'unrealized_intraday_plpc': '-0.0001251851697302',\n",
       "     'unrealized_pl': '-0.06',\n",
       "     'unrealized_plpc': '-0.0001251851697302',\n",
       "     'usd': None},\n",
       " {   'asset_class': <AssetClass.US_EQUITY: 'us_equity'>,\n",
       "     'asset_id': UUID('b28f4066-5c6d-479b-a2af-85dc1a8f16fb'),\n",
       "     'asset_marginable': True,\n",
       "     'avg_entry_price': '500.250164',\n",
       "     'avg_entry_swap_rate': None,\n",
       "     'change_today': '0.0053430182815037',\n",
       "     'cost_basis': '95547.781311',\n",
       "     'current_price': '575.77',\n",
       "     'exchange': <AssetExchange.ARCA: 'ARCA'>,\n",
       "     'lastday_price': '572.71',\n",
       "     'market_value': '109972.07',\n",
       "     'qty': '191',\n",
       "     'qty_available': '191',\n",
       "     'side': <PositionSide.LONG: 'long'>,\n",
       "     'swap_rate': None,\n",
       "     'symbol': 'SPY',\n",
       "     'unrealized_intraday_pl': '584.46',\n",
       "     'unrealized_intraday_plpc': '0.0053430182815037',\n",
       "     'unrealized_pl': '14424.288689',\n",
       "     'unrealized_plpc': '0.1509641405701526',\n",
       "     'usd': None},\n",
       " {   'asset_class': <AssetClass.US_EQUITY: 'us_equity'>,\n",
       "     'asset_id': UUID('8ccae427-5dd0-45b3-b5fe-7ba5e422c766'),\n",
       "     'asset_marginable': True,\n",
       "     'avg_entry_price': '263.64',\n",
       "     'avg_entry_swap_rate': None,\n",
       "     'change_today': '0.0007591573353578',\n",
       "     'cost_basis': '-2636.4',\n",
       "     'current_price': '263.65',\n",
       "     'exchange': <AssetExchange.NASDAQ: 'NASDAQ'>,\n",
       "     'lastday_price': '263.45',\n",
       "     'market_value': '-2636.5',\n",
       "     'qty': '-10',\n",
       "     'qty_available': '-10',\n",
       "     'side': <PositionSide.SHORT: 'short'>,\n",
       "     'swap_rate': None,\n",
       "     'symbol': 'TSLA',\n",
       "     'unrealized_intraday_pl': '-0.1',\n",
       "     'unrealized_intraday_plpc': '-0.0000379305113033',\n",
       "     'unrealized_pl': '-0.1',\n",
       "     'unrealized_plpc': '-0.0000379305113033',\n",
       "     'usd': None}]"
      ]
     },
     "execution_count": 20,
     "metadata": {},
     "output_type": "execute_result"
    }
   ],
   "source": [
    "positions = trading_client.get_all_positions()\n",
    "positions"
   ]
  },
  {
   "attachments": {},
   "cell_type": "markdown",
   "metadata": {},
   "source": [
    "## CHECK YOUR ACCOUNT"
   ]
  },
  {
   "cell_type": "code",
   "execution_count": 21,
   "metadata": {},
   "outputs": [
    {
     "data": {
      "text/plain": [
       "{   'account_blocked': False,\n",
       "    'account_number': 'PA3J0LUAM1VV',\n",
       "    'accrued_fees': '0',\n",
       "    'buying_power': '292395.27',\n",
       "    'cash': '-404.66',\n",
       "    'created_at': datetime.datetime(2024, 2, 11, 16, 46, 29, 12993, tzinfo=TzInfo(UTC)),\n",
       "    'crypto_status': <AccountStatus.ACTIVE: 'ACTIVE'>,\n",
       "    'currency': 'USD',\n",
       "    'daytrade_count': 0,\n",
       "    'daytrading_buying_power': '292395.27',\n",
       "    'equity': '107425.04',\n",
       "    'id': UUID('8955151d-0998-4e09-bae8-6f8ed3979f47'),\n",
       "    'initial_margin': '56551.86',\n",
       "    'last_equity': '106825.93',\n",
       "    'last_maintenance_margin': '32816.28',\n",
       "    'long_market_value': '110466.71',\n",
       "    'maintenance_margin': '34194.82',\n",
       "    'multiplier': '4',\n",
       "    'non_marginable_buying_power': '48873.18',\n",
       "    'options_approved_level': 3,\n",
       "    'options_buying_power': '48873.18',\n",
       "    'options_trading_level': 3,\n",
       "    'pattern_day_trader': True,\n",
       "    'pending_transfer_in': None,\n",
       "    'pending_transfer_out': None,\n",
       "    'portfolio_value': '107425.04',\n",
       "    'regt_buying_power': '101746.36',\n",
       "    'short_market_value': '-2637.01',\n",
       "    'shorting_enabled': True,\n",
       "    'sma': '108802.78',\n",
       "    'status': <AccountStatus.ACTIVE: 'ACTIVE'>,\n",
       "    'trade_suspended_by_user': False,\n",
       "    'trading_blocked': False,\n",
       "    'transfers_blocked': False}"
      ]
     },
     "execution_count": 21,
     "metadata": {},
     "output_type": "execute_result"
    }
   ],
   "source": [
    "account = trading_client.get_account()\n",
    "account"
   ]
  },
  {
   "attachments": {},
   "cell_type": "markdown",
   "metadata": {},
   "source": [
    "## PORTFOLIO VALUE"
   ]
  },
  {
   "cell_type": "code",
   "execution_count": 22,
   "metadata": {},
   "outputs": [
    {
     "data": {
      "text/plain": [
       "'107425.04'"
      ]
     },
     "execution_count": 22,
     "metadata": {},
     "output_type": "execute_result"
    }
   ],
   "source": [
    "account.equity"
   ]
  },
  {
   "cell_type": "markdown",
   "metadata": {},
   "source": []
  }
 ],
 "metadata": {
  "kernelspec": {
   "display_name": "Python 3",
   "language": "python",
   "name": "python3"
  },
  "language_info": {
   "codemirror_mode": {
    "name": "ipython",
    "version": 3
   },
   "file_extension": ".py",
   "mimetype": "text/x-python",
   "name": "python",
   "nbconvert_exporter": "python",
   "pygments_lexer": "ipython3",
   "version": "3.13.0"
  },
  "orig_nbformat": 4
 },
 "nbformat": 4,
 "nbformat_minor": 2
}
