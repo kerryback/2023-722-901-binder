{
 "cells": [
  {
   "attachments": {},
   "cell_type": "markdown",
   "metadata": {},
   "source": [
    "# Cross validation"
   ]
  },
  {
   "cell_type": "markdown",
   "metadata": {},
   "source": [
    "## Imports"
   ]
  },
  {
   "cell_type": "code",
   "execution_count": 1,
   "metadata": {},
   "outputs": [],
   "source": [
    "import pandas as pd\n",
    "from sqlalchemy import create_engine\n",
    "\n",
    "server = \"mssql-82792-0.cloudclusters.net:16272\"\n",
    "username = \"user\"\n",
    "password = \"RiceOwls1912\" \n",
    "database = \"ghz\"\n",
    "string = \"mssql+pymssql://\" + username + \":\" + password + \"@\" + server + \"/\" + database\n",
    "\n",
    "conn = create_engine(string).connect()\n"
   ]
  },
  {
   "cell_type": "markdown",
   "metadata": {},
   "source": [
    "## EXAMPLE: TRAIN FROM 2021-12, PREDICT FOR 2022-01"
   ]
  },
  {
   "cell_type": "code",
   "execution_count": 2,
   "metadata": {},
   "outputs": [],
   "source": [
    "df = pd.read_sql(\n",
    "    \"\"\"\n",
    "    select ticker, date, agr, bm, idiovol, mom12m, roeq, ret\n",
    "    from data\n",
    "    where date in ('2021-12', '2022-01')\n",
    "    \"\"\", \n",
    "    conn\n",
    ")\n",
    "features = [\"agr\", \"bm\", \"idiovol\", \"mom12m\", \"roeq\"]"
   ]
  },
  {
   "cell_type": "markdown",
   "metadata": {},
   "source": [
    "## TRANSFORM EACH CROSS-SECTION"
   ]
  },
  {
   "cell_type": "code",
   "execution_count": 3,
   "metadata": {},
   "outputs": [],
   "source": [
    "from sklearn.preprocessing import QuantileTransformer\n",
    "qt = QuantileTransformer(output_distribution=\"normal\")\n",
    "\n",
    "def qtxs(d):\n",
    "    x = qt.fit_transform(d)\n",
    "    return pd.DataFrame(x, columns=d.columns, index=d.index)\n",
    "\n",
    "df[features + [\"ret\"]] = df.groupby(\n",
    "  \"date\", \n",
    "  group_keys=False\n",
    ")[features + [\"ret\"]].apply(qtxs)"
   ]
  },
  {
   "attachments": {},
   "cell_type": "markdown",
   "metadata": {},
   "source": [
    "## FITTING A Gradient Boosting"
   ]
  },
  {
   "cell_type": "code",
   "execution_count": 5,
   "metadata": {},
   "outputs": [
    {
     "data": {
      "text/plain": [
       "GradientBoostingRegressor(learning_rate=0.05, random_state=0)"
      ]
     },
     "execution_count": 5,
     "metadata": {},
     "output_type": "execute_result"
    }
   ],
   "source": [
    "from sklearn.ensemble import GradientBoostingRegressor\n",
    "from sklearn.model_selection import GridSearchCV\n",
    "\n",
    "df = df.dropna()\n",
    "\n",
    "Xtrain = df[df.date=='2021-12'][features]\n",
    "ytrain = df[df.date=='2021-12'][\"ret\"]\n",
    "\n",
    "model = GradientBoostingRegressor(\n",
    "  max_depth=3,\n",
    "  learning_rate=0.05,\n",
    "  random_state=0\n",
    ")\n",
    "model.fit(Xtrain, ytrain)"
   ]
  },
  {
   "cell_type": "code",
   "execution_count": 6,
   "metadata": {},
   "outputs": [
    {
     "data": {
      "text/html": [
       "<div>\n",
       "<style scoped>\n",
       "    .dataframe tbody tr th:only-of-type {\n",
       "        vertical-align: middle;\n",
       "    }\n",
       "\n",
       "    .dataframe tbody tr th {\n",
       "        vertical-align: top;\n",
       "    }\n",
       "\n",
       "    .dataframe thead th {\n",
       "        text-align: right;\n",
       "    }\n",
       "</style>\n",
       "<table border=\"1\" class=\"dataframe\">\n",
       "  <thead>\n",
       "    <tr style=\"text-align: right;\">\n",
       "      <th></th>\n",
       "      <th>param_learning_rate</th>\n",
       "      <th>param_max_depth</th>\n",
       "      <th>params</th>\n",
       "      <th>split0_test_score</th>\n",
       "      <th>split1_test_score</th>\n",
       "      <th>split2_test_score</th>\n",
       "      <th>split3_test_score</th>\n",
       "      <th>split4_test_score</th>\n",
       "      <th>mean_test_score</th>\n",
       "      <th>std_test_score</th>\n",
       "      <th>rank_test_score</th>\n",
       "    </tr>\n",
       "  </thead>\n",
       "  <tbody>\n",
       "    <tr>\n",
       "      <th>0</th>\n",
       "      <td>0.05</td>\n",
       "      <td>3</td>\n",
       "      <td>{'learning_rate': 0.05, 'max_depth': 3}</td>\n",
       "      <td>0.205606</td>\n",
       "      <td>0.200925</td>\n",
       "      <td>0.128059</td>\n",
       "      <td>0.053506</td>\n",
       "      <td>0.163218</td>\n",
       "      <td>0.150263</td>\n",
       "      <td>0.055950</td>\n",
       "      <td>1</td>\n",
       "    </tr>\n",
       "    <tr>\n",
       "      <th>1</th>\n",
       "      <td>0.05</td>\n",
       "      <td>4</td>\n",
       "      <td>{'learning_rate': 0.05, 'max_depth': 4}</td>\n",
       "      <td>0.195240</td>\n",
       "      <td>0.201872</td>\n",
       "      <td>0.117736</td>\n",
       "      <td>0.016117</td>\n",
       "      <td>0.169546</td>\n",
       "      <td>0.140102</td>\n",
       "      <td>0.068695</td>\n",
       "      <td>2</td>\n",
       "    </tr>\n",
       "    <tr>\n",
       "      <th>2</th>\n",
       "      <td>0.1</td>\n",
       "      <td>3</td>\n",
       "      <td>{'learning_rate': 0.1, 'max_depth': 3}</td>\n",
       "      <td>0.191770</td>\n",
       "      <td>0.189925</td>\n",
       "      <td>0.104906</td>\n",
       "      <td>0.035839</td>\n",
       "      <td>0.148249</td>\n",
       "      <td>0.134138</td>\n",
       "      <td>0.058566</td>\n",
       "      <td>3</td>\n",
       "    </tr>\n",
       "    <tr>\n",
       "      <th>3</th>\n",
       "      <td>0.1</td>\n",
       "      <td>4</td>\n",
       "      <td>{'learning_rate': 0.1, 'max_depth': 4}</td>\n",
       "      <td>0.159580</td>\n",
       "      <td>0.170066</td>\n",
       "      <td>0.085479</td>\n",
       "      <td>-0.006736</td>\n",
       "      <td>0.162140</td>\n",
       "      <td>0.114106</td>\n",
       "      <td>0.067718</td>\n",
       "      <td>4</td>\n",
       "    </tr>\n",
       "  </tbody>\n",
       "</table>\n",
       "</div>"
      ],
      "text/plain": [
       "  param_learning_rate param_max_depth  \\\n",
       "0                0.05               3   \n",
       "1                0.05               4   \n",
       "2                 0.1               3   \n",
       "3                 0.1               4   \n",
       "\n",
       "                                    params  split0_test_score  \\\n",
       "0  {'learning_rate': 0.05, 'max_depth': 3}           0.205606   \n",
       "1  {'learning_rate': 0.05, 'max_depth': 4}           0.195240   \n",
       "2   {'learning_rate': 0.1, 'max_depth': 3}           0.191770   \n",
       "3   {'learning_rate': 0.1, 'max_depth': 4}           0.159580   \n",
       "\n",
       "   split1_test_score  split2_test_score  split3_test_score  split4_test_score  \\\n",
       "0           0.200925           0.128059           0.053506           0.163218   \n",
       "1           0.201872           0.117736           0.016117           0.169546   \n",
       "2           0.189925           0.104906           0.035839           0.148249   \n",
       "3           0.170066           0.085479          -0.006736           0.162140   \n",
       "\n",
       "   mean_test_score  std_test_score  rank_test_score  \n",
       "0         0.150263        0.055950                1  \n",
       "1         0.140102        0.068695                2  \n",
       "2         0.134138        0.058566                3  \n",
       "3         0.114106        0.067718                4  "
      ]
     },
     "execution_count": 6,
     "metadata": {},
     "output_type": "execute_result"
    }
   ],
   "source": [
    "param_grid = {\n",
    "  \"max_depth\": [3, 4], \n",
    "  \"learning_rate\": [0.05, 0.1]\n",
    "}\n",
    "\n",
    "cv = GridSearchCV(\n",
    "  estimator=GradientBoostingRegressor(),\n",
    "  param_grid=param_grid,\n",
    ")\n",
    "\n",
    "_ = cv.fit(Xtrain, ytrain)\n",
    "pd.DataFrame(cv.cv_results_).iloc[:, 4:]"
   ]
  },
  {
   "cell_type": "code",
   "execution_count": null,
   "metadata": {},
   "outputs": [],
   "source": []
  }
 ],
 "metadata": {
  "kernelspec": {
   "display_name": "myenv",
   "language": "python",
   "name": "python3"
  },
  "language_info": {
   "codemirror_mode": {
    "name": "ipython",
    "version": 3
   },
   "file_extension": ".py",
   "mimetype": "text/x-python",
   "name": "python",
   "nbconvert_exporter": "python",
   "pygments_lexer": "ipython3",
   "version": "3.7.13"
  },
  "orig_nbformat": 4,
  "vscode": {
   "interpreter": {
    "hash": "09ac0f642c4809c63ace70dc888cbd5b35159287af3895fb76989324c78b2f31"
   }
  }
 },
 "nbformat": 4,
 "nbformat_minor": 2
}
